{
 "cells": [
  {
   "attachments": {},
   "cell_type": "markdown",
   "metadata": {},
   "source": [
    "# CP-SAT: Non-linear functions"
   ]
  },
  {
   "cell_type": "code",
   "execution_count": null,
   "metadata": {},
   "outputs": [],
   "source": [
    "from ortools.sat.python import cp_model\n",
    "\n",
    "import numpy as np\n",
    "\n",
    "FLOAT_APPROX_PRECISION = 100"
   ]
  },
  {
   "cell_type": "code",
   "execution_count": null,
   "metadata": {},
   "outputs": [],
   "source": [
    "from utils import create_boolean_is_equal_to"
   ]
  },
  {
   "attachments": {},
   "cell_type": "markdown",
   "metadata": {},
   "source": [
    "## CP-SAT doesn't want you to use non-linear functions"
   ]
  },
  {
   "attachments": {},
   "cell_type": "markdown",
   "metadata": {},
   "source": [
    "CP SAT supports many integer operations. But you can't compose an IntVar by a custom function, in particular if it's non-linear. \n",
    "\n",
    "For example, you can't do exp(var)."
   ]
  },
  {
   "cell_type": "code",
   "execution_count": null,
   "metadata": {},
   "outputs": [
    {
     "ename": "TypeError",
     "evalue": "must be real number, not IntVar",
     "output_type": "error",
     "traceback": [
      "\u001b[0;31m---------------------------------------------------------------------------\u001b[0m\n",
      "\u001b[0;31mTypeError\u001b[0m                                 Traceback (most recent call last)\n",
      "\u001b[1;32m/home/haxxor/projects/cpsat-fun/main.ipynb Cell 42\u001b[0m in \u001b[0;36m<cell line: 10>\u001b[0;34m()\u001b[0m\n",
      "\u001b[1;32m      <a href='vscode-notebook-cell:/home/haxxor/projects/cpsat-fun/main.ipynb#X31sZmlsZQ%3D%3D?line=5'>6</a>\u001b[0m result \u001b[39m=\u001b[39m model\u001b[39m.\u001b[39mNewIntVar(\u001b[39m0\u001b[39m, \u001b[39m100\u001b[39m \u001b[39m*\u001b[39m \u001b[39m100\u001b[39m, \u001b[39m\"\u001b[39m\u001b[39mresult\u001b[39m\u001b[39m\"\u001b[39m)\n",
      "\u001b[1;32m      <a href='vscode-notebook-cell:/home/haxxor/projects/cpsat-fun/main.ipynb#X31sZmlsZQ%3D%3D?line=7'>8</a>\u001b[0m \u001b[39m# Let's say we want result == exp(x)\u001b[39;00m\n",
      "\u001b[1;32m      <a href='vscode-notebook-cell:/home/haxxor/projects/cpsat-fun/main.ipynb#X31sZmlsZQ%3D%3D?line=8'>9</a>\u001b[0m \u001b[39m# This will fail (rightfully)\u001b[39;00m\n",
      "\u001b[0;32m---> <a href='vscode-notebook-cell:/home/haxxor/projects/cpsat-fun/main.ipynb#X31sZmlsZQ%3D%3D?line=9'>10</a>\u001b[0m model\u001b[39m.\u001b[39mAdd(result \u001b[39m==\u001b[39m exp(x))\n",
      "\n",
      "\u001b[0;31mTypeError\u001b[0m: must be real number, not IntVar"
     ]
    }
   ],
   "source": [
    "from math import exp\n",
    "\n",
    "model = cp_model.CpModel()\n",
    "\n",
    "x = model.NewIntVar(0, 100, \"x\")\n",
    "result = model.NewIntVar(0, 100 * 100, \"result\")\n",
    "\n",
    "# Let's say we want result == exp(x)\n",
    "# This will fail (rightfully)\n",
    "model.Add(result == exp(x))"
   ]
  },
  {
   "attachments": {},
   "cell_type": "markdown",
   "metadata": {},
   "source": [
    "## Precomputing the function values"
   ]
  },
  {
   "cell_type": "markdown",
   "metadata": {},
   "source": [
    "Taylor series are cool, but a bit of an overkill. Especially at this coarse level of precision (`10E-2`) and for a function with such well-known values. \n",
    "\n",
    "Instead of approximating exp, we could simply precompute its values, and use some kind of hashmap to refer to it."
   ]
  },
  {
   "cell_type": "code",
   "execution_count": null,
   "metadata": {},
   "outputs": [],
   "source": [
    "# TODO : Make this take any function value \n",
    "# TODO : Make this work with variable bounds\n",
    "\n",
    "def lookup_table_exp_of_x(\n",
    "    model: cp_model.CpModel,\n",
    "    var: cp_model.IntVar,\n",
    "    float_precision_var=FLOAT_APPROX_PRECISION,\n",
    "    float_precision_exp=FLOAT_APPROX_PRECISION,\n",
    "):\n",
    "    lb = var.Proto().domain[0]\n",
    "    ub = var.Proto().domain[1]\n",
    "    x_to_exp_x = {\n",
    "        x: round(exp(x / float_precision_var) * float_precision_exp)\n",
    "        for x in np.arange(lb, ub + 1)\n",
    "    }\n",
    "    exp_of_var = model.NewIntVar(\n",
    "        min(x_to_exp_x.values()), max(x_to_exp_x.values()), f\"exp_{var.Name()}\"\n",
    "    )\n",
    "\n",
    "    # This is how we implement a kind of lookup table\n",
    "    for x_value, exp_value in x_to_exp_x.items():\n",
    "        var_is_equal_to_x = create_boolean_is_equal_to(model, var, x_value)\n",
    "        model.Add(exp_of_var == exp_value).OnlyEnforceIf(var_is_equal_to_x)\n",
    "    \n",
    "    return exp_of_var"
   ]
  },
  {
   "attachments": {},
   "cell_type": "markdown",
   "metadata": {},
   "source": [
    "Example with the exponential function"
   ]
  },
  {
   "cell_type": "code",
   "execution_count": null,
   "metadata": {},
   "outputs": [
    {
     "name": "stdout",
     "output_type": "stream",
     "text": [
      "Status = OPTIMAL\n",
      "Solver value of exp(0.69) is: 1.9937\n",
      "Real value is: 1.9937155332430823\n"
     ]
    },
    {
     "name": "stderr",
     "output_type": "stream",
     "text": [
      "/tmp/ipykernel_4537/1959322448.py:13: DeprecationWarning: elementwise comparison failed; this will raise an error in the future.\n",
      "  model.Add(value != var).OnlyEnforceIf(boolean_var.Not())\n"
     ]
    }
   ],
   "source": [
    "float_precision_var = 100\n",
    "float_precision_exp = 10_000\n",
    "value_of_x = 0.69\n",
    "\n",
    "model = cp_model.CpModel()\n",
    "\n",
    "x = model.NewIntVar(-10 * float_precision_var, 10 * float_precision_var, \"x\")\n",
    "exp_of_x = lookup_table_exp_of_x(\n",
    "    model,\n",
    "    x,\n",
    "    float_precision_var=float_precision_var,\n",
    "    float_precision_exp=float_precision_exp,\n",
    ")\n",
    "\n",
    "model.Add(x == round(float_precision_var * value_of_x))\n",
    "\n",
    "solver = cp_model.CpSolver()\n",
    "status = solver.Solve(model)\n",
    "\n",
    "print(f\"Status = {solver.StatusName(status)}\")\n",
    "\n",
    "print(\n",
    "    f\"Solver value of exp({value_of_x}) is: {solver.Value(exp_of_x)/ float_precision_exp}\"\n",
    ")\n",
    "print(f\"Real value is: {exp(value_of_x)}\")\n"
   ]
  }
 ],
 "metadata": {
  "kernelspec": {
   "display_name": "ynstaenv",
   "language": "python",
   "name": "python3"
  },
  "language_info": {
   "name": "python",
   "version": "3.9.5"
  },
  "orig_nbformat": 4,
  "vscode": {
   "interpreter": {
    "hash": "60aad423cf61d8722f5f696b996614860486ab31702984425ac69059c5f0f73d"
   }
  }
 },
 "nbformat": 4,
 "nbformat_minor": 2
}

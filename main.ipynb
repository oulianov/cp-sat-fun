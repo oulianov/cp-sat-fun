{
 "cells": [
  {
   "attachments": {},
   "cell_type": "markdown",
   "metadata": {},
   "source": [
    "# CP SAT fun"
   ]
  },
  {
   "attachments": {},
   "cell_type": "markdown",
   "metadata": {},
   "source": [
    "AKA misusing the CP SAT solver for mischevious fun. "
   ]
  },
  {
   "cell_type": "code",
   "execution_count": 3,
   "metadata": {},
   "outputs": [],
   "source": [
    "from ortools.sat.python import cp_model\n",
    "\n",
    "\n",
    "class VarArraySolutionPrinter(cp_model.CpSolverSolutionCallback):\n",
    "    \"\"\"Print intermediate solutions.\"\"\"\n",
    "\n",
    "    def __init__(self, variables):\n",
    "        cp_model.CpSolverSolutionCallback.__init__(self)\n",
    "        self.__variables = variables\n",
    "        self.__solution_count = 0\n",
    "\n",
    "    def on_solution_callback(self):\n",
    "        self.__solution_count += 1\n",
    "        for v in self.__variables:\n",
    "            print(\"%s=%i\" % (v, self.Value(v)), end=\" \")\n",
    "        print()\n",
    "\n",
    "    def solution_count(self):\n",
    "        return self.__solution_count\n"
   ]
  },
  {
   "attachments": {},
   "cell_type": "markdown",
   "metadata": {},
   "source": [
    "## Division with decimal numbers"
   ]
  },
  {
   "attachments": {},
   "cell_type": "markdown",
   "metadata": {},
   "source": [
    "CP-SAT is an integer programming solver. Thus, it only stores integer variables. \n",
    "\n",
    "But when you divide variables, you sometimes need more precision than an integer. \n",
    "\n",
    "Simply multiply the variable by a big number to get a rounded down approximation. "
   ]
  },
  {
   "cell_type": "code",
   "execution_count": 587,
   "metadata": {},
   "outputs": [],
   "source": [
    "FLOAT_APPROX_PRECISION = 100"
   ]
  },
  {
   "cell_type": "code",
   "execution_count": 588,
   "metadata": {},
   "outputs": [
    {
     "name": "stdout",
     "output_type": "stream",
     "text": [
      "Solution is approximately: 0.33\n"
     ]
    }
   ],
   "source": [
    "model = cp_model.CpModel()\n",
    "\n",
    "numerator = model.NewIntVar(0, 100, \"numerator\")\n",
    "denominator = model.NewIntVar(1, 100, \"denominator\")\n",
    "result = model.NewIntVar(0, 100, \"result\")\n",
    "\n",
    "# We want to compute 10/30\n",
    "model.Add(numerator == 10)\n",
    "model.Add(denominator == 30)\n",
    "# Add a divison equality and multiply numerator by 100\n",
    "model.AddDivisionEquality(result, numerator * FLOAT_APPROX_PRECISION, denominator)\n",
    "\n",
    "# Solve\n",
    "solver = cp_model.CpSolver()\n",
    "status = solver.Solve(model)\n",
    "\n",
    "# Divide the result to get a rounded down solution\n",
    "print(f\"Solution is approximately: {solver.Value(result) / FLOAT_APPROX_PRECISION}\")\n"
   ]
  },
  {
   "attachments": {},
   "cell_type": "markdown",
   "metadata": {},
   "source": [
    "## Constraints with decimal numbers"
   ]
  },
  {
   "attachments": {},
   "cell_type": "markdown",
   "metadata": {},
   "source": [
    "Let's say you want the result variable to be more than half of the variable x. This will fail."
   ]
  },
  {
   "cell_type": "code",
   "execution_count": 589,
   "metadata": {},
   "outputs": [
    {
     "ename": "TypeError",
     "evalue": "Not an integer: -0.5",
     "output_type": "error",
     "traceback": [
      "\u001b[0;31m---------------------------------------------------------------------------\u001b[0m",
      "\u001b[0;31mTypeError\u001b[0m                                 Traceback (most recent call last)",
      "\u001b[1;32m/home/haxxor/projects/cpsat-fun/main.ipynb Cell 10\u001b[0m in \u001b[0;36m<cell line: 9>\u001b[0;34m()\u001b[0m\n\u001b[1;32m      <a href='vscode-notebook-cell:/home/haxxor/projects/cpsat-fun/main.ipynb#X66sZmlsZQ%3D%3D?line=6'>7</a>\u001b[0m model\u001b[39m.\u001b[39mAdd(numerator \u001b[39m==\u001b[39m \u001b[39m30\u001b[39m)\n\u001b[1;32m      <a href='vscode-notebook-cell:/home/haxxor/projects/cpsat-fun/main.ipynb#X66sZmlsZQ%3D%3D?line=7'>8</a>\u001b[0m \u001b[39m# This will fail\u001b[39;00m\n\u001b[0;32m----> <a href='vscode-notebook-cell:/home/haxxor/projects/cpsat-fun/main.ipynb#X66sZmlsZQ%3D%3D?line=8'>9</a>\u001b[0m model\u001b[39m.\u001b[39;49mAdd(result \u001b[39m>\u001b[39;49m\u001b[39m=\u001b[39;49m \u001b[39m0.5\u001b[39;49m \u001b[39m*\u001b[39;49m x)\n",
      "File \u001b[0;32m~/ynstant/ynstaenv/lib/python3.9/site-packages/ortools/sat/python/cp_model.py:1068\u001b[0m, in \u001b[0;36mCpModel.Add\u001b[0;34m(self, ct)\u001b[0m\n\u001b[1;32m   1059\u001b[0m     \u001b[39m\"\"\"Adds a `BoundedLinearExpression` to the model.\u001b[39;00m\n\u001b[1;32m   1060\u001b[0m \n\u001b[1;32m   1061\u001b[0m \u001b[39mArgs:\u001b[39;00m\n\u001b[0;32m   (...)\u001b[0m\n\u001b[1;32m   1065\u001b[0m \u001b[39m  An instance of the `Constraint` class.\u001b[39;00m\n\u001b[1;32m   1066\u001b[0m \u001b[39m\"\"\"\u001b[39;00m\n\u001b[1;32m   1067\u001b[0m     \u001b[39mif\u001b[39;00m \u001b[39misinstance\u001b[39m(ct, BoundedLinearExpression):\n\u001b[0;32m-> 1068\u001b[0m         \u001b[39mreturn\u001b[39;00m \u001b[39mself\u001b[39;49m\u001b[39m.\u001b[39;49mAddLinearExpressionInDomain(\n\u001b[1;32m   1069\u001b[0m             ct\u001b[39m.\u001b[39;49mExpression(), Domain\u001b[39m.\u001b[39;49mFromFlatIntervals(ct\u001b[39m.\u001b[39;49mBounds()))\n\u001b[1;32m   1070\u001b[0m     \u001b[39melif\u001b[39;00m ct \u001b[39mand\u001b[39;00m \u001b[39misinstance\u001b[39m(ct, \u001b[39mbool\u001b[39m):\n\u001b[1;32m   1071\u001b[0m         \u001b[39mreturn\u001b[39;00m \u001b[39mself\u001b[39m\u001b[39m.\u001b[39mAddBoolOr([\u001b[39mTrue\u001b[39;00m])\n",
      "File \u001b[0;32m~/ynstant/ynstaenv/lib/python3.9/site-packages/ortools/sat/python/cp_model.py:1041\u001b[0m, in \u001b[0;36mCpModel.AddLinearExpressionInDomain\u001b[0;34m(self, linear_expr, domain)\u001b[0m\n\u001b[1;32m   1039\u001b[0m \u001b[39mif\u001b[39;00m \u001b[39mnot\u001b[39;00m \u001b[39misinstance\u001b[39m(t[\u001b[39m0\u001b[39m], IntVar):\n\u001b[1;32m   1040\u001b[0m     \u001b[39mraise\u001b[39;00m \u001b[39mTypeError\u001b[39;00m(\u001b[39m'\u001b[39m\u001b[39mWrong argument\u001b[39m\u001b[39m'\u001b[39m \u001b[39m+\u001b[39m \u001b[39mstr\u001b[39m(t))\n\u001b[0;32m-> 1041\u001b[0m c \u001b[39m=\u001b[39m cmh\u001b[39m.\u001b[39;49massert_is_int64(t[\u001b[39m1\u001b[39;49m])\n\u001b[1;32m   1042\u001b[0m model_ct\u001b[39m.\u001b[39mlinear\u001b[39m.\u001b[39mvars\u001b[39m.\u001b[39mappend(t[\u001b[39m0\u001b[39m]\u001b[39m.\u001b[39mIndex())\n\u001b[1;32m   1043\u001b[0m model_ct\u001b[39m.\u001b[39mlinear\u001b[39m.\u001b[39mcoeffs\u001b[39m.\u001b[39mappend(c)\n",
      "File \u001b[0;32m~/ynstant/ynstaenv/lib/python3.9/site-packages/ortools/sat/python/cp_model_helper.py:56\u001b[0m, in \u001b[0;36massert_is_int64\u001b[0;34m(x)\u001b[0m\n\u001b[1;32m     54\u001b[0m \u001b[39m\"\"\"Asserts that x is integer and x is in [min_int_64, max_int_64].\"\"\"\u001b[39;00m\n\u001b[1;32m     55\u001b[0m \u001b[39mif\u001b[39;00m \u001b[39mnot\u001b[39;00m is_integral(x):\n\u001b[0;32m---> 56\u001b[0m     \u001b[39mraise\u001b[39;00m \u001b[39mTypeError\u001b[39;00m(\u001b[39m'\u001b[39m\u001b[39mNot an integer: \u001b[39m\u001b[39m%s\u001b[39;00m\u001b[39m'\u001b[39m \u001b[39m%\u001b[39m x)\n\u001b[1;32m     57\u001b[0m \u001b[39mif\u001b[39;00m x \u001b[39m<\u001b[39m INT_MIN \u001b[39mor\u001b[39;00m x \u001b[39m>\u001b[39m INT_MAX:\n\u001b[1;32m     58\u001b[0m     \u001b[39mraise\u001b[39;00m \u001b[39mOverflowError\u001b[39;00m(\u001b[39m'\u001b[39m\u001b[39mDoes not fit in an int64_t: \u001b[39m\u001b[39m%s\u001b[39;00m\u001b[39m'\u001b[39m \u001b[39m%\u001b[39m x)\n",
      "\u001b[0;31mTypeError\u001b[0m: Not an integer: -0.5"
     ]
    }
   ],
   "source": [
    "model = cp_model.CpModel()\n",
    "\n",
    "x = model.NewIntVar(0, 100, \"x\")\n",
    "result = model.NewIntVar(0, 100, \"result\")\n",
    "\n",
    "# Assume x == 30\n",
    "model.Add(numerator == 30)\n",
    "# This will fail\n",
    "model.Add(result >= 0.5 * x)"
   ]
  },
  {
   "attachments": {},
   "cell_type": "markdown",
   "metadata": {},
   "source": [
    "But you can rewrite this inequality, to say that the variable result should be at least twice as big as the variable x.\n",
    "\n",
    "In this casee, the constraint is perfectly valid."
   ]
  },
  {
   "cell_type": "code",
   "execution_count": 590,
   "metadata": {},
   "outputs": [
    {
     "data": {
      "text/plain": [
       "<ortools.sat.python.cp_model.Constraint at 0x7f3554ee0a90>"
      ]
     },
     "execution_count": 590,
     "metadata": {},
     "output_type": "execute_result"
    }
   ],
   "source": [
    "model.Add(2 * result >= x)"
   ]
  },
  {
   "attachments": {},
   "cell_type": "markdown",
   "metadata": {},
   "source": [
    "More generally, a quick and dirty way to handle constraints with decimal numbers is to multiply both sides by a big number and round everything. "
   ]
  },
  {
   "cell_type": "code",
   "execution_count": 591,
   "metadata": {},
   "outputs": [
    {
     "data": {
      "text/plain": [
       "<ortools.sat.python.cp_model.Constraint at 0x7f355479d850>"
      ]
     },
     "execution_count": 591,
     "metadata": {},
     "output_type": "execute_result"
    }
   ],
   "source": [
    "# This will work well enough in most cases\n",
    "model.Add(FLOAT_APPROX_PRECISION*result >= round(FLOAT_APPROX_PRECISION * 0.5) * x)"
   ]
  },
  {
   "attachments": {},
   "cell_type": "markdown",
   "metadata": {},
   "source": [
    "## Only enforce a constraint when a condition is verified"
   ]
  },
  {
   "attachments": {},
   "cell_type": "markdown",
   "metadata": {},
   "source": [
    "A great thing in CP SAT is being able to enable constraint only when some bool is true. \n",
    "\n",
    "However, this method doesn't work out of the box with linear expressions."
   ]
  },
  {
   "cell_type": "code",
   "execution_count": 592,
   "metadata": {},
   "outputs": [
    {
     "ename": "TypeError",
     "evalue": "'BoundedLinearExpression' object is not iterable",
     "output_type": "error",
     "traceback": [
      "\u001b[0;31m---------------------------------------------------------------------------\u001b[0m",
      "\u001b[0;31mTypeError\u001b[0m                                 Traceback (most recent call last)",
      "\u001b[1;32m/home/haxxor/projects/cpsat-fun/main.ipynb Cell 17\u001b[0m in \u001b[0;36m<cell line: 10>\u001b[0;34m()\u001b[0m\n\u001b[1;32m      <a href='vscode-notebook-cell:/home/haxxor/projects/cpsat-fun/main.ipynb#X25sZmlsZQ%3D%3D?line=7'>8</a>\u001b[0m model\u001b[39m.\u001b[39mAdd(x \u001b[39m==\u001b[39m \u001b[39m10\u001b[39m)\n\u001b[1;32m      <a href='vscode-notebook-cell:/home/haxxor/projects/cpsat-fun/main.ipynb#X25sZmlsZQ%3D%3D?line=8'>9</a>\u001b[0m \u001b[39m# The following will fail \u001b[39;00m\n\u001b[0;32m---> <a href='vscode-notebook-cell:/home/haxxor/projects/cpsat-fun/main.ipynb#X25sZmlsZQ%3D%3D?line=9'>10</a>\u001b[0m model\u001b[39m.\u001b[39;49mAdd(result \u001b[39m==\u001b[39;49m x)\u001b[39m.\u001b[39;49mOnlyEnforceIf(x \u001b[39m>\u001b[39;49m\u001b[39m=\u001b[39;49m \u001b[39m0\u001b[39;49m)\n",
      "File \u001b[0;32m~/ynstant/ynstaenv/lib/python3.9/site-packages/ortools/sat/python/cp_model.py:816\u001b[0m, in \u001b[0;36mConstraint.OnlyEnforceIf\u001b[0;34m(self, *boolvar)\u001b[0m\n\u001b[1;32m    799\u001b[0m \u001b[39mdef\u001b[39;00m \u001b[39mOnlyEnforceIf\u001b[39m(\u001b[39mself\u001b[39m, \u001b[39m*\u001b[39mboolvar):\n\u001b[1;32m    800\u001b[0m     \u001b[39m\"\"\"Adds an enforcement literal to the constraint.\u001b[39;00m\n\u001b[1;32m    801\u001b[0m \n\u001b[1;32m    802\u001b[0m \u001b[39mThis method adds one or more literals (that is, a boolean variable or its\u001b[39;00m\n\u001b[0;32m   (...)\u001b[0m\n\u001b[1;32m    814\u001b[0m \u001b[39m  self.\u001b[39;00m\n\u001b[1;32m    815\u001b[0m \u001b[39m\"\"\"\u001b[39;00m\n\u001b[0;32m--> 816\u001b[0m     \u001b[39mfor\u001b[39;00m lit \u001b[39min\u001b[39;00m ExpandGeneratorOrTuple(boolvar):\n\u001b[1;32m    817\u001b[0m         \u001b[39mif\u001b[39;00m (\u001b[39misinstance\u001b[39m(lit, \u001b[39mbool\u001b[39m) \u001b[39mand\u001b[39;00m\n\u001b[1;32m    818\u001b[0m                 \u001b[39mbool\u001b[39m(lit)) \u001b[39mor\u001b[39;00m (cmh\u001b[39m.\u001b[39mis_integral(lit) \u001b[39mand\u001b[39;00m \u001b[39mint\u001b[39m(lit) \u001b[39m==\u001b[39m \u001b[39m1\u001b[39m):\n\u001b[1;32m    819\u001b[0m             \u001b[39m# Always true. Do nothing.\u001b[39;00m\n\u001b[1;32m    820\u001b[0m             \u001b[39mpass\u001b[39;00m\n",
      "\u001b[0;31mTypeError\u001b[0m: 'BoundedLinearExpression' object is not iterable"
     ]
    }
   ],
   "source": [
    "model = cp_model.CpModel()\n",
    "\n",
    "x = model.NewIntVar(-100, 100, \"x\")\n",
    "result = model.NewIntVar(0, 100, \"result\")\n",
    "\n",
    "# We want to have result == x only if x >= 0\n",
    "# Let's suppose x=10\n",
    "model.Add(x == 10)\n",
    "# The following will fail \n",
    "model.Add(result == x).OnlyEnforceIf(x >= 0)"
   ]
  },
  {
   "attachments": {},
   "cell_type": "markdown",
   "metadata": {},
   "source": [
    "A trick is to use an intermediate boolean variable, with correct constraints.\n",
    "\n",
    "The boolean variable will be true when the condition is enforced, and false otherwise. \n",
    "\n",
    "Here, we implement this for the condition \"var is non zero\", i.e. `var > 0`. We use a Big M to make this."
   ]
  },
  {
   "cell_type": "code",
   "execution_count": 593,
   "metadata": {},
   "outputs": [],
   "source": [
    "BIG_M = 1_000 # Big M should be larger than x largest absolute value\n",
    "\n",
    "def create_boolean_is_positive(model:cp_model.CpModel, var: cp_model.IntVar):\n",
    "    \"\"\"Create a bool variable such that \n",
    "    If var >= 0 then bool = 1\n",
    "    If var  < 0 then bool = 0 \n",
    "    \"\"\"\n",
    "    boolean_var = model.NewBoolVar(name=var.Name() + \"_is_positive\")\n",
    "\n",
    "    # Bool are casted to 0 if False and 1 if True, so you can do some operations with them\n",
    "\n",
    "    # If var > 0, then this is true only if bool = 1\n",
    "    # If var <= 0, then this is always true\n",
    "    model.Add(BIG_M*boolean_var >= var)\n",
    "    # If var > 0, then this is always true\n",
    "    # If var <= 0, then this is true only if bool = 0\n",
    "    model.Add(BIG_M*(boolean_var - 1) <= var)\n",
    "\n",
    "    # To handle the case var == 0, we specifiy that we want boolean_var to be = 1 this way\n",
    "    model.Add(boolean_var > var).OnlyEnforceIf(boolean_var.Not())\n",
    "\n",
    "    return boolean_var"
   ]
  },
  {
   "attachments": {},
   "cell_type": "markdown",
   "metadata": {},
   "source": [
    "Let's try this function. If x is nonzero positive, we'd like to see the value of x as a result. "
   ]
  },
  {
   "cell_type": "code",
   "execution_count": 594,
   "metadata": {},
   "outputs": [
    {
     "name": "stdout",
     "output_type": "stream",
     "text": [
      "Solution is: 10\n"
     ]
    }
   ],
   "source": [
    "model = cp_model.CpModel()\n",
    "\n",
    "x = model.NewIntVar(-100, 100, \"x\")\n",
    "result = model.NewIntVar(0, 100, \"result\")\n",
    "\n",
    "# We want to have result == x only if x >= 0\n",
    "# We create the intermediate variable \n",
    "x_is_positive = create_boolean_is_positive(model, x)\n",
    "\n",
    "# Let's suppose x=10\n",
    "model.Add(x == 10)\n",
    "# The following will work\n",
    "model.Add(result == x).OnlyEnforceIf(x_is_positive)\n",
    "\n",
    "# Solve\n",
    "solver = cp_model.CpSolver()\n",
    "status = solver.Solve(model)\n",
    "\n",
    "# Divide the result to get a rounded down solution\n",
    "print(f\"Solution is: {solver.Value(result)}\")\n"
   ]
  },
  {
   "attachments": {},
   "cell_type": "markdown",
   "metadata": {},
   "source": [
    "Now if x is nonzero negative, we set the result to be 42. "
   ]
  },
  {
   "cell_type": "code",
   "execution_count": 595,
   "metadata": {},
   "outputs": [
    {
     "name": "stdout",
     "output_type": "stream",
     "text": [
      "Solution is: 42\n"
     ]
    }
   ],
   "source": [
    "model = cp_model.CpModel()\n",
    "\n",
    "x = model.NewIntVar(-100, 100, \"x\")\n",
    "result = model.NewIntVar(0, 100, \"result\")\n",
    "x_is_positive = create_boolean_is_positive(x)\n",
    "\n",
    "# Let's suppose x=-10\n",
    "model.Add(x == -10)\n",
    "model.Add(result == x).OnlyEnforceIf(x_is_positive)\n",
    "# And return 42 if x is not positive\n",
    "model.Add(result == 42).OnlyEnforceIf(x_is_positive.Not())\n",
    "\n",
    "\n",
    "# Solve\n",
    "solver = cp_model.CpSolver()\n",
    "status = solver.Solve(model)\n",
    "\n",
    "# Divide the result to get a rounded down solution\n",
    "print(f\"Solution is: {solver.Value(result)}\")"
   ]
  },
  {
   "attachments": {},
   "cell_type": "markdown",
   "metadata": {},
   "source": [
    "Let's also inspect the value of the bool if x=0. In the function we decided for the bool to be true. This is indeed what we see. "
   ]
  },
  {
   "cell_type": "code",
   "execution_count": 596,
   "metadata": {},
   "outputs": [
    {
     "name": "stdout",
     "output_type": "stream",
     "text": [
      "Solution is: 1\n"
     ]
    }
   ],
   "source": [
    "model = cp_model.CpModel()\n",
    "\n",
    "x = model.NewIntVar(-100, 100, \"x\")\n",
    "result = model.NewIntVar(0, 100, \"result\")\n",
    "x_is_positive = create_boolean_is_positive(x)\n",
    "\n",
    "# Let's test the case x==0 \n",
    "model.Add(x == 0)\n",
    "\n",
    "# Solve\n",
    "solver = cp_model.CpSolver()\n",
    "status = solver.Solve(model)\n",
    "\n",
    "# Divide the result to get a rounded down solution\n",
    "print(f\"Solution is: {solver.Value(x_is_positive)}\")"
   ]
  },
  {
   "attachments": {},
   "cell_type": "markdown",
   "metadata": {},
   "source": [
    "## Multiplication of three or more terms with intermediate variables"
   ]
  },
  {
   "attachments": {},
   "cell_type": "markdown",
   "metadata": {},
   "source": [
    "The solver works with a multiplication equality constraint of 2 variables. "
   ]
  },
  {
   "cell_type": "code",
   "execution_count": 597,
   "metadata": {},
   "outputs": [
    {
     "name": "stdout",
     "output_type": "stream",
     "text": [
      "Solution is: 242\n"
     ]
    }
   ],
   "source": [
    "model = cp_model.CpModel()\n",
    "\n",
    "x = model.NewIntVar(0, 100, \"x\")\n",
    "y = model.NewIntVar(1, 100, \"y\")\n",
    "result = model.NewIntVar(0, 100 * 100, \"result\")\n",
    "\n",
    "# We want to compute 22*11\n",
    "model.Add(x == 22)\n",
    "model.Add(y == 11)\n",
    "model.AddMultiplicationEquality(result, [x, y])\n",
    "\n",
    "# Solve\n",
    "solver = cp_model.CpSolver()\n",
    "status = solver.Solve(model)\n",
    "\n",
    "print(f\"Solution is: {solver.Value(result)}\")\n"
   ]
  },
  {
   "attachments": {},
   "cell_type": "markdown",
   "metadata": {},
   "source": [
    "But with more than 2 terms, the solver will fail. This is despite the docs saying us that it should work. "
   ]
  },
  {
   "cell_type": "code",
   "execution_count": 598,
   "metadata": {},
   "outputs": [
    {
     "name": "stdout",
     "output_type": "stream",
     "text": [
      "Status = MODEL_INVALID\n"
     ]
    }
   ],
   "source": [
    "model = cp_model.CpModel()\n",
    "\n",
    "x = model.NewIntVar(0, 100, \"x\")\n",
    "y = model.NewIntVar(0, 100, \"y\")\n",
    "z = model.NewIntVar(0, 100, \"z\")\n",
    "result = model.NewIntVar(0, 100 * 100 * 100, \"result\")\n",
    "\n",
    "# We want to compute 22*11*33\n",
    "model.Add(x == 22)\n",
    "model.Add(y == 11)\n",
    "model.Add(z == 33)\n",
    "model.AddMultiplicationEquality(result, [x, y, z])\n",
    "\n",
    "# The solver fails\n",
    "solver = cp_model.CpSolver()\n",
    "status = solver.Solve(model)\n",
    "print(f\"Status = {solver.StatusName(status)}\")\n"
   ]
  },
  {
   "attachments": {},
   "cell_type": "markdown",
   "metadata": {},
   "source": [
    "A trick is to use an intermediate variable. "
   ]
  },
  {
   "cell_type": "code",
   "execution_count": 599,
   "metadata": {},
   "outputs": [
    {
     "name": "stdout",
     "output_type": "stream",
     "text": [
      "Status = OPTIMAL\n",
      "Solution is: 7986\n"
     ]
    }
   ],
   "source": [
    "model = cp_model.CpModel()\n",
    "\n",
    "x = model.NewIntVar(0, 100, \"x\")\n",
    "y = model.NewIntVar(0, 100, \"y\")\n",
    "intermediate = model.NewIntVar(0, 100 * 100, \"x*y\")\n",
    "z = model.NewIntVar(0, 100, \"z\")\n",
    "result = model.NewIntVar(0, 100 * 100 * 100, \"result\")\n",
    "\n",
    "# Let's say we want to compute 22*11*33\n",
    "# First we compute x*y and store the result in an intermediate variable\n",
    "model.Add(x == 22)\n",
    "model.Add(y == 11)\n",
    "model.AddMultiplicationEquality(intermediate, [x, y])\n",
    "# And then we multiply this intermediate variable and get the final result\n",
    "model.Add(z == 33)\n",
    "model.AddMultiplicationEquality(result, [intermediate, z])\n",
    "\n",
    "# The solver is happy now\n",
    "solver = cp_model.CpSolver()\n",
    "status = solver.Solve(model)\n",
    "\n",
    "print(f\"Status = {solver.StatusName(status)}\")\n",
    "print(f\"Solution is: {solver.Value(result)}\")"
   ]
  },
  {
   "attachments": {},
   "cell_type": "markdown",
   "metadata": {},
   "source": [
    "We can generalize this idea, and implement this recursive function. "
   ]
  },
  {
   "cell_type": "code",
   "execution_count": 600,
   "metadata": {},
   "outputs": [],
   "source": [
    "from typing import List\n",
    "\n",
    "\n",
    "def add_multiplication_constraint(\n",
    "    model: cp_model.CpModel, target: cp_model.IntVar, variables: List[cp_model.IntVar],\n",
    "):\n",
    "    if len(variables) <= 2:\n",
    "        # If less than 2 variables, we can add a normal inequality constraint\n",
    "        model.AddMultiplicationEquality(target, variables)\n",
    "        return\n",
    "    else:\n",
    "        last_variable = variables.pop()\n",
    "        before_last_variable = variables.pop()\n",
    "        # Use their bounds to define domain of the intermediate variable\n",
    "        # You may need additional logic here to account for variable domain bounds\n",
    "        ub = max(\n",
    "            last_variable.Proto().domain[1] * before_last_variable.Proto().domain[1],\n",
    "            last_variable.Proto().domain[0] * before_last_variable.Proto().domain[1],\n",
    "            last_variable.Proto().domain[0] * before_last_variable.Proto().domain[0],\n",
    "            last_variable.Proto().domain[1] * before_last_variable.Proto().domain[0],\n",
    "        )\n",
    "        lb = min(\n",
    "            last_variable.Proto().domain[1] * before_last_variable.Proto().domain[1],\n",
    "            last_variable.Proto().domain[0] * before_last_variable.Proto().domain[1],\n",
    "            last_variable.Proto().domain[0] * before_last_variable.Proto().domain[0],\n",
    "            last_variable.Proto().domain[1] * before_last_variable.Proto().domain[0],\n",
    "        )\n",
    "        # Create an intermediate variable\n",
    "        intermediate = model.NewIntVar(\n",
    "            lb=lb, ub=ub, name=f\"{before_last_variable.Name()}*{last_variable.Name()}\"\n",
    "        )\n",
    "        model.AddMultiplicationEquality(\n",
    "            intermediate, [before_last_variable, last_variable]\n",
    "        )\n",
    "        # Recursion\n",
    "        add_multiplication_constraint(model, target, variables + [intermediate])\n"
   ]
  },
  {
   "attachments": {},
   "cell_type": "markdown",
   "metadata": {},
   "source": [
    "Let's test it with the product of 10 variables with random values. "
   ]
  },
  {
   "cell_type": "code",
   "execution_count": 601,
   "metadata": {},
   "outputs": [
    {
     "name": "stdout",
     "output_type": "stream",
     "text": [
      "Set x_0=-19\n",
      "Set x_1=17\n",
      "Set x_2=-12\n",
      "Set x_3=11\n",
      "Set x_4=-1\n",
      "Set x_5=11\n",
      "Set x_6=-13\n",
      "Set x_7=-12\n",
      "Set x_8=-10\n",
      "Set x_9=4\n",
      "Status = OPTIMAL\n",
      "Solution found by the solver is: 2926535040\n",
      "Real solution is: 2926535040\n"
     ]
    }
   ],
   "source": [
    "from random import randint \n",
    "\n",
    "model = cp_model.CpModel()\n",
    "\n",
    "n_variables = 10\n",
    "many_variables = [model.NewIntVar(-20, 20, f\"{x}_{i}\") for i in range(n_variables)]\n",
    "result = model.NewIntVar(- 20 ** n_variables, 20 ** n_variables, \"result\")\n",
    "\n",
    "# Set the var to be equal to random int between 1 and 10\n",
    "real_product = 1\n",
    "for i, var in enumerate(many_variables):\n",
    "    random_value = randint(-20, 20)\n",
    "    if random_value == 0:\n",
    "        random_value += 1\n",
    "    real_product *= random_value\n",
    "    print(f\"Set {x}_{i}={random_value}\")\n",
    "    model.Add(var == random_value)\n",
    "\n",
    "add_multiplication_constraint(model, result, many_variables)\n",
    "\n",
    "# The solver is happy now\n",
    "solver = cp_model.CpSolver()\n",
    "status = solver.Solve(model)\n",
    "\n",
    "print(f\"Status = {solver.StatusName(status)}\")\n",
    "print(f\"Solution found by the solver is: {solver.Value(result)}\")\n",
    "print(f\"Real solution is: {real_product}\")"
   ]
  },
  {
   "attachments": {},
   "cell_type": "markdown",
   "metadata": {},
   "source": [
    "This works ! But beware, as integers have limits, and you can reach them when you multiply many big numbers together.\n",
    " \n",
    "I found the limit to be $2^{63} \\approx 9,2 \\times 10^{18}$. "
   ]
  },
  {
   "cell_type": "code",
   "execution_count": 602,
   "metadata": {},
   "outputs": [],
   "source": [
    "# No problem\n",
    "big_int = model.NewIntVar(- 2**63 + 1, 2**63 -1, \"big_int\")"
   ]
  },
  {
   "cell_type": "code",
   "execution_count": 603,
   "metadata": {},
   "outputs": [
    {
     "ename": "TypeError",
     "evalue": "__init__(): incompatible constructor arguments. The following argument types are supported:\n    1. ortools.util.python.sorted_interval_list.Domain(arg0: int, arg1: int)\n\nInvoked with: 0, 9223372036854775808",
     "output_type": "error",
     "traceback": [
      "\u001b[0;31m---------------------------------------------------------------------------\u001b[0m",
      "\u001b[0;31mTypeError\u001b[0m                                 Traceback (most recent call last)",
      "\u001b[1;32m/home/haxxor/projects/cpsat-fun/main.ipynb Cell 39\u001b[0m in \u001b[0;36m<cell line: 2>\u001b[0;34m()\u001b[0m\n\u001b[1;32m      <a href='vscode-notebook-cell:/home/haxxor/projects/cpsat-fun/main.ipynb#X56sZmlsZQ%3D%3D?line=0'>1</a>\u001b[0m \u001b[39m# Big trouble !!!\u001b[39;00m\n\u001b[0;32m----> <a href='vscode-notebook-cell:/home/haxxor/projects/cpsat-fun/main.ipynb#X56sZmlsZQ%3D%3D?line=1'>2</a>\u001b[0m big_int \u001b[39m=\u001b[39m model\u001b[39m.\u001b[39;49mNewIntVar(\u001b[39m0\u001b[39;49m, \u001b[39m2\u001b[39;49m\u001b[39m*\u001b[39;49m\u001b[39m*\u001b[39;49m\u001b[39m63\u001b[39;49m, \u001b[39m\"\u001b[39;49m\u001b[39mbig_int\u001b[39;49m\u001b[39m\"\u001b[39;49m)\n",
      "File \u001b[0;32m~/ynstant/ynstaenv/lib/python3.9/site-packages/ortools/sat/python/cp_model.py:999\u001b[0m, in \u001b[0;36mCpModel.NewIntVar\u001b[0;34m(self, lb, ub, name)\u001b[0m\n\u001b[1;32m    983\u001b[0m \u001b[39mdef\u001b[39;00m \u001b[39mNewIntVar\u001b[39m(\u001b[39mself\u001b[39m, lb, ub, name):\n\u001b[1;32m    984\u001b[0m     \u001b[39m\"\"\"Create an integer variable with domain [lb, ub].\u001b[39;00m\n\u001b[1;32m    985\u001b[0m \n\u001b[1;32m    986\u001b[0m \u001b[39mThe CP-SAT solver is limited to integer variables. If you have fractional\u001b[39;00m\n\u001b[0;32m   (...)\u001b[0m\n\u001b[1;32m    996\u001b[0m \u001b[39m  a variable whose domain is [lb, ub].\u001b[39;00m\n\u001b[1;32m    997\u001b[0m \u001b[39m\"\"\"\u001b[39;00m\n\u001b[0;32m--> 999\u001b[0m     \u001b[39mreturn\u001b[39;00m IntVar(\u001b[39mself\u001b[39m\u001b[39m.\u001b[39m__model, Domain(lb, ub), name)\n",
      "\u001b[0;31mTypeError\u001b[0m: __init__(): incompatible constructor arguments. The following argument types are supported:\n    1. ortools.util.python.sorted_interval_list.Domain(arg0: int, arg1: int)\n\nInvoked with: 0, 9223372036854775808"
     ]
    }
   ],
   "source": [
    "# Big trouble !!!\n",
    "big_int = model.NewIntVar(0, 2**63, \"big_int\")"
   ]
  },
  {
   "attachments": {},
   "cell_type": "markdown",
   "metadata": {},
   "source": [
    "## Exponential, polynoms, and Taylor expansions"
   ]
  },
  {
   "attachments": {},
   "cell_type": "markdown",
   "metadata": {},
   "source": [
    "CP SAT supports many integer operations. But you can't compose an IntVar by any function. For example, you can't do exp(var)."
   ]
  },
  {
   "cell_type": "code",
   "execution_count": 604,
   "metadata": {},
   "outputs": [
    {
     "ename": "TypeError",
     "evalue": "must be real number, not IntVar",
     "output_type": "error",
     "traceback": [
      "\u001b[0;31m---------------------------------------------------------------------------\u001b[0m",
      "\u001b[0;31mTypeError\u001b[0m                                 Traceback (most recent call last)",
      "\u001b[1;32m/home/haxxor/projects/cpsat-fun/main.ipynb Cell 42\u001b[0m in \u001b[0;36m<cell line: 10>\u001b[0;34m()\u001b[0m\n\u001b[1;32m      <a href='vscode-notebook-cell:/home/haxxor/projects/cpsat-fun/main.ipynb#X31sZmlsZQ%3D%3D?line=5'>6</a>\u001b[0m result \u001b[39m=\u001b[39m model\u001b[39m.\u001b[39mNewIntVar(\u001b[39m0\u001b[39m, \u001b[39m100\u001b[39m \u001b[39m*\u001b[39m \u001b[39m100\u001b[39m, \u001b[39m\"\u001b[39m\u001b[39mresult\u001b[39m\u001b[39m\"\u001b[39m)\n\u001b[1;32m      <a href='vscode-notebook-cell:/home/haxxor/projects/cpsat-fun/main.ipynb#X31sZmlsZQ%3D%3D?line=7'>8</a>\u001b[0m \u001b[39m# Let's say we want result == exp(x)\u001b[39;00m\n\u001b[1;32m      <a href='vscode-notebook-cell:/home/haxxor/projects/cpsat-fun/main.ipynb#X31sZmlsZQ%3D%3D?line=8'>9</a>\u001b[0m \u001b[39m# This will fail (rightfully)\u001b[39;00m\n\u001b[0;32m---> <a href='vscode-notebook-cell:/home/haxxor/projects/cpsat-fun/main.ipynb#X31sZmlsZQ%3D%3D?line=9'>10</a>\u001b[0m model\u001b[39m.\u001b[39mAdd(result \u001b[39m==\u001b[39m exp(x))\n",
      "\u001b[0;31mTypeError\u001b[0m: must be real number, not IntVar"
     ]
    }
   ],
   "source": [
    "from math import exp\n",
    "\n",
    "model = cp_model.CpModel()\n",
    "\n",
    "x = model.NewIntVar(0, 100, \"x\")\n",
    "result = model.NewIntVar(0, 100 * 100, \"result\")\n",
    "\n",
    "# Let's say we want result == exp(x)\n",
    "# This will fail (rightfully)\n",
    "model.Add(result == exp(x))"
   ]
  },
  {
   "attachments": {},
   "cell_type": "markdown",
   "metadata": {},
   "source": [
    "### Taylor series approximation for exp at integer values"
   ]
  },
  {
   "attachments": {},
   "cell_type": "markdown",
   "metadata": {},
   "source": [
    "But... What we can do is compute products of variables. \n",
    "\n",
    "Thus, we can set constraints on polynoms.\n",
    "\n",
    "And using [Taylor's theorem](https://en.wikipedia.org/wiki/Taylor%27s_theorem), we can approximate functions by polynoms using their n-th derivatives, for their values close to zero. For example, \n",
    "\n",
    "$$e^{x} = \\sum_{k=0}^{\\infty} \\frac{x^k}{k!} \\approx 1 + x + \\frac{1}{2}x^2 + \\frac{1}{6}x^3 + \\frac{1}{24}x^4 + \\dots$$\n",
    "\n",
    "$$\\ln(1+x) \\approx x - \\frac{1}{2}x^2 + \\frac{1}{3}x^3 - \\frac{1}{4}x^4 + \\dots $$\n",
    "\n",
    "Note that this can be used to approximate many other functions, but only close to zero. \n",
    "\n",
    "So, let's create polynoms."
   ]
  },
  {
   "cell_type": "code",
   "execution_count": 605,
   "metadata": {},
   "outputs": [],
   "source": [
    "def create_polynom(model: cp_model.CpModel, var: cp_model.IntVar, coefs: List[float], float_precision=FLOAT_APPROX_PRECISION, verbose=True):\n",
    "    degree = len(coefs)\n",
    "\n",
    "    # Approximate all coef values by mutliplying them by a big number and rounding them\n",
    "    coefs = [round(float_precision * coef) for coef in coefs]\n",
    "\n",
    "    polynom_value = 0\n",
    "    polynom_value_ub = 0\n",
    "    polynom_value_lb = 0\n",
    "    for deg in range(degree):\n",
    "        # Create the coefficient value\n",
    "        if deg == 0:\n",
    "            polynom_value += coefs[deg]\n",
    "            polynom_value_lb += coefs[deg]\n",
    "            polynom_value_ub += coefs[deg]\n",
    "        elif deg == 1:\n",
    "            polynom_value_lb += var.Proto().domain[0] * coefs[deg]\n",
    "            polynom_value_ub += var.Proto().domain[1] * coefs[deg]\n",
    "\n",
    "            polynom_value += coefs[deg] * var\n",
    "        else:\n",
    "            lb = var.Proto().domain[0] ** deg\n",
    "            ub = var.Proto().domain[1] ** deg\n",
    "\n",
    "            if (deg % 2) == 0:\n",
    "                if var.Proto().domain[0] < 0:\n",
    "                    lb = - lb\n",
    "                if var.Proto().domain[1] < 0:\n",
    "                    ub = - ub\n",
    "            \n",
    "            lb = coefs[deg] * lb\n",
    "            ub = coefs[deg] * ub      \n",
    "\n",
    "            polynom_value_lb += lb\n",
    "            polynom_value_ub += ub \n",
    "            \n",
    "            target = model.NewIntVar(lb=lb, ub=ub, name=f\"{var.Name()}**{deg}\")\n",
    "            add_multiplication_constraint(model, target, [var]*deg)\n",
    "            polynom_value += coefs[deg]*target\n",
    "    \n",
    "    if verbose:\n",
    "        print(\"Polynom\", polynom_value)\n",
    "\n",
    "    polynom_var = model.NewIntVar(polynom_value_lb, polynom_value_ub, name=f\"{var.Name()}_polynom\")\n",
    "    model.Add(polynom_var == polynom_value)\n",
    "    return polynom_var"
   ]
  },
  {
   "attachments": {},
   "cell_type": "markdown",
   "metadata": {},
   "source": [
    "This previous function creates an intvar equals to the polynom value at x, with the given coefficients rounded. \n",
    "\n",
    "Here is the polynom associated to the taylor series expansion of exp."
   ]
  },
  {
   "cell_type": "code",
   "execution_count": 606,
   "metadata": {},
   "outputs": [
    {
     "name": "stdout",
     "output_type": "stream",
     "text": [
      "Polynom (((((10000 * x) + 10000) + (5000 * x**2)) + (1667 * x**3)) + (417 * x**4))\n",
      "Status = OPTIMAL\n",
      "Solver value approximation of exp(1) is: 2.7084\n",
      "Real approximation is: 2.708333333333333\n",
      "Real value is: 2.718281828459045\n"
     ]
    }
   ],
   "source": [
    "from math import factorial\n",
    "\n",
    "float_precision = 10_000\n",
    "polynom_degree_approx = 5\n",
    "value_of_x = 1\n",
    "\n",
    "model = cp_model.CpModel()\n",
    "\n",
    "x = model.NewIntVar(0, 10, \"x\")\n",
    "exp_of_x = create_polynom(model, x, coefs=[1 / factorial(k) for k in range(polynom_degree_approx)], float_precision=float_precision)\n",
    "\n",
    "model.Add(x == value_of_x)\n",
    "\n",
    "solver = cp_model.CpSolver()\n",
    "status = solver.Solve(model)\n",
    "\n",
    "print(f\"Status = {solver.StatusName(status)}\")\n",
    "print(f\"Solver value approximation of exp({value_of_x}) is: {solver.Value(exp_of_x) / float_precision}\")\n",
    "print(f\"Real approximation is: { sum([value_of_x**k / factorial(k) for k in range(polynom_degree_approx)]) }\")\n",
    "print(f\"Real value is: {exp(value_of_x)}\")\n"
   ]
  },
  {
   "attachments": {},
   "cell_type": "markdown",
   "metadata": {},
   "source": [
    "This can also work for negative value of exp, although we need to crank up the precision and degrees. "
   ]
  },
  {
   "cell_type": "code",
   "execution_count": 607,
   "metadata": {},
   "outputs": [
    {
     "name": "stdout",
     "output_type": "stream",
     "text": [
      "Polynom (((((((((((10000000 * x) + 10000000) + (5000000 * x**2)) + (1666667 * x**3)) + (416667 * x**4)) + (83333 * x**5)) + (13889 * x**6)) + (1984 * x**7)) + (248 * x**8)) + (28 * x**9)) + (3 * x**10))\n",
      "Status = OPTIMAL\n",
      "Solver value approximation of exp(-3) is: 0.0539323\n",
      "Real approximation is: 0.05332589285714289\n",
      "Real value is: 0.049787068367863944\n"
     ]
    }
   ],
   "source": [
    "float_precision = 10_000_000\n",
    "polynom_degree_approx = 11\n",
    "value_of_x = -3\n",
    "\n",
    "model = cp_model.CpModel()\n",
    "\n",
    "x = model.NewIntVar(-10, 10, \"x\")\n",
    "exp_of_x = create_polynom(model, x, coefs=[1 / factorial(k) for k in range(polynom_degree_approx)], float_precision=float_precision)\n",
    "\n",
    "model.Add(x == value_of_x)\n",
    "\n",
    "solver = cp_model.CpSolver()\n",
    "status = solver.Solve(model)\n",
    "\n",
    "\n",
    "print(f\"Status = {solver.StatusName(status)}\")\n",
    "print(f\"Solver value approximation of exp({value_of_x}) is: {solver.Value(exp_of_x) / float_precision}\")\n",
    "print(f\"Real approximation is: { sum([value_of_x**k / factorial(k) for k in range(polynom_degree_approx)]) }\")\n",
    "print(f\"Real value is: {exp(value_of_x)}\")\n"
   ]
  },
  {
   "attachments": {},
   "cell_type": "markdown",
   "metadata": {},
   "source": [
    "### Taylor series approximation for exp at decimal values"
   ]
  },
  {
   "attachments": {},
   "cell_type": "markdown",
   "metadata": {},
   "source": [
    "Now, this approximation is cool and all. But the main use of Taylor approximation is for values close to zero. Indeed, that's where the approximation is the best. Right now, we only have approximation of integer values. \n",
    "\n",
    "An intuitive way to do that would be to multiply the value of x by a big number, like we did for the division. Just use `67` instead of `0.67`.\n",
    "\n",
    "But with the current implementation, this leads to big numerical errors. For example, `67**4 + 67**2 = 20 151 121` but `0.67**4 + 0.67**2 = 0.65041121`. \n",
    "\n",
    "We solve this by approximating every power individually, i.e. `67**4 / 100**3 + 67**2 / 100**1 = 65`, which is much closer to what we need."
   ]
  },
  {
   "cell_type": "code",
   "execution_count": 608,
   "metadata": {},
   "outputs": [
    {
     "data": {
      "text/plain": [
       "65.041121"
      ]
     },
     "execution_count": 608,
     "metadata": {},
     "output_type": "execute_result"
    }
   ],
   "source": [
    "67**4 / 100**3 + 67**2 / 100**1"
   ]
  },
  {
   "cell_type": "code",
   "execution_count": 609,
   "metadata": {},
   "outputs": [],
   "source": [
    "def create_polynom_decimal(\n",
    "    model: cp_model.CpModel,\n",
    "    var: cp_model.IntVar,\n",
    "    coefs: List[float],\n",
    "    float_precision_var=FLOAT_APPROX_PRECISION,\n",
    "    float_precision_coef=FLOAT_APPROX_PRECISION,\n",
    "    verbose=True,\n",
    "):\n",
    "    \"\"\"This polynom accepts as an input a decimal var upscaled by float_precision_var.\"\"\"\n",
    "    degree = len(coefs)\n",
    "\n",
    "    # Approximate all coef values by mutliplying them by a big number and rounding them\n",
    "    coefs = [round(float_precision_coef * coef) for coef in coefs]\n",
    "\n",
    "    polynom_value = 0\n",
    "    polynom_value_ub = 0\n",
    "    polynom_value_lb = 0\n",
    "    for deg in range(degree):\n",
    "        # Create the coefficient value\n",
    "        if deg == 0:\n",
    "            polynom_value += coefs[deg] * float_precision_var\n",
    "            polynom_value_lb += coefs[deg] * float_precision_var\n",
    "            polynom_value_ub += coefs[deg] * float_precision_var\n",
    "        elif deg == 1:\n",
    "            polynom_value_lb += var.Proto().domain[0] * coefs[deg]\n",
    "            polynom_value_ub += var.Proto().domain[1] * coefs[deg]\n",
    "\n",
    "            polynom_value += coefs[deg] * var \n",
    "        else:\n",
    "            # Bounds logic\n",
    "            lb_no_coef = var.Proto().domain[0] ** deg\n",
    "            ub_no_coef = var.Proto().domain[1] ** deg\n",
    "\n",
    "            if (deg % 2) == 0:\n",
    "                if var.Proto().domain[0] < 0:\n",
    "                    lb_no_coef = -lb_no_coef\n",
    "                if var.Proto().domain[1] < 0:\n",
    "                    ub_no_coef = -ub_no_coef\n",
    "\n",
    "            lb = coefs[deg] * lb_no_coef\n",
    "            ub = coefs[deg] * ub_no_coef\n",
    "\n",
    "            polynom_value_lb += lb\n",
    "            polynom_value_ub += ub\n",
    "\n",
    "            # Compute (x**n)\n",
    "            target = model.NewIntVar(lb=lb_no_coef, ub=ub_no_coef, name=f\"{var.Name()}**{deg}\")\n",
    "            add_multiplication_constraint(model, target, [var] * deg)\n",
    "            # Then compute (a * x**n)\n",
    "            target_times_coef = model.NewIntVar(\n",
    "                lb=lb, ub=ub, name=f\"{coefs[deg]}*{var.Name()}**{deg}\"\n",
    "            )\n",
    "            model.Add(target_times_coef == target * coefs[deg])\n",
    "            # Downscale (a * x**n) to the float_precision_var range\n",
    "            target_divided_by_approx = model.NewIntVar(\n",
    "                lb=lb, ub=ub, name=f\"{coefs[deg]}*{var.Name()}**{deg} / ({float_precision_var**(deg-1)})\"\n",
    "            )\n",
    "            model.AddDivisionEquality(\n",
    "                target_divided_by_approx, target_times_coef, float_precision_var**(deg-1)\n",
    "            )\n",
    "\n",
    "            polynom_value += target_divided_by_approx\n",
    "\n",
    "    if verbose:\n",
    "        print(\"Polynom\", polynom_value)\n",
    "\n",
    "    polynom_var = model.NewIntVar(\n",
    "        polynom_value_lb, polynom_value_ub, name=f\"{var.Name()}_polynom\"\n",
    "    )\n",
    "    model.Add(polynom_var == polynom_value)\n",
    "    return polynom_var\n"
   ]
  },
  {
   "attachments": {},
   "cell_type": "markdown",
   "metadata": {},
   "source": [
    "And now we can evaluate polynoms at decimal values, and consequently compute Taylor expansion closer to zero. \n",
    "\n",
    "Note that since we are evaluating closer to zero, we can downgrade the Taylor expansion precision and still get good results\n"
   ]
  },
  {
   "cell_type": "code",
   "execution_count": 610,
   "metadata": {},
   "outputs": [
    {
     "name": "stdout",
     "output_type": "stream",
     "text": [
      "Polynom (((((1000 * x) + 100000) + 500*x**2 / (100)) + 167*x**3 / (10000)) + 42*x**4 / (1000000))\n",
      "Status = OPTIMAL\n",
      "Solver value approximation of exp(0.69) is: 1.99243\n",
      "Real approximation is: 1.99224613375\n",
      "Real value is: 1.9937155332430823\n"
     ]
    }
   ],
   "source": [
    "float_precision_var = 100\n",
    "float_precision_coefs = 1_000\n",
    "polynom_degree_approx = 5\n",
    "value_of_x = 0.69\n",
    "\n",
    "model = cp_model.CpModel()\n",
    "\n",
    "x = model.NewIntVar(-10 * float_precision_var, 10 * float_precision_var, \"x\")\n",
    "exp_of_x = create_polynom_decimal(\n",
    "    model,\n",
    "    x,\n",
    "    coefs=[1 / factorial(k) for k in range(polynom_degree_approx)],\n",
    "    float_precision_var=float_precision_var,\n",
    "    float_precision_coef=float_precision_coefs,\n",
    "    verbose=True,\n",
    ")\n",
    "\n",
    "model.Add(x == round(float_precision_var * value_of_x))\n",
    "\n",
    "solver = cp_model.CpSolver()\n",
    "status = solver.Solve(model)\n",
    "\n",
    "print(f\"Status = {solver.StatusName(status)}\")\n",
    "\n",
    "print(\n",
    "    f\"Solver value approximation of exp({value_of_x}) is: {solver.Value(exp_of_x)/ float_precision_coefs / float_precision_var}\"\n",
    ")\n",
    "print(\n",
    "    f\"Real approximation is: { sum([value_of_x**k / factorial(k) for k in range(polynom_degree_approx)]) }\"\n",
    ")\n",
    "print(f\"Real value is: {exp(value_of_x)}\")\n"
   ]
  },
  {
   "attachments": {},
   "cell_type": "markdown",
   "metadata": {},
   "source": [
    "### Precompute the function values"
   ]
  },
  {
   "attachments": {},
   "cell_type": "markdown",
   "metadata": {},
   "source": [
    "Taylor series are cool, but a bit of an overkill. Especially at this coarse level of precision (`10E-2`) and for a function with such well-known values. \n",
    "\n",
    "Instead of approximating exp, we could simply precompute its values, and use some kind of hashmap to refer to it."
   ]
  },
  {
   "cell_type": "code",
   "execution_count": 618,
   "metadata": {},
   "outputs": [],
   "source": [
    "import numpy as np\n",
    "\n",
    "\n",
    "def create_boolean_is_equal_to(model:cp_model.CpModel, var: cp_model.IntVar, value: int):\n",
    "    \"\"\"Create a bool variable such that\n",
    "    If var == value then bool = 1\n",
    "    Else then bool = 0\n",
    "    \"\"\"\n",
    "    boolean_var = model.NewBoolVar(name=f\"{var.Name()}_is_equal_to_{value}\")\n",
    "    model.Add(value * boolean_var == var).OnlyEnforceIf(boolean_var)\n",
    "    model.Add(value != var).OnlyEnforceIf(boolean_var.Not())\n",
    "\n",
    "    return boolean_var\n",
    "\n",
    "\n",
    "def lookup_table_exp_of_x(\n",
    "    model: cp_model.CpModel,\n",
    "    var: cp_model.IntVar,\n",
    "    float_precision_var=FLOAT_APPROX_PRECISION,\n",
    "    float_precision_exp=FLOAT_APPROX_PRECISION,\n",
    "):\n",
    "    lb = var.Proto().domain[0]\n",
    "    ub = var.Proto().domain[1]\n",
    "    x_to_exp_x = {\n",
    "        x: round(exp(x / float_precision_var) * float_precision_exp)\n",
    "        for x in np.arange(lb, ub + 1)\n",
    "    }\n",
    "    exp_of_var = model.NewIntVar(\n",
    "        min(x_to_exp_x.values()), max(x_to_exp_x.values()), f\"exp_{var.Name()}\"\n",
    "    )\n",
    "\n",
    "    # This is how we implement a kind of lookup table\n",
    "    for x_value, exp_value in x_to_exp_x.items():\n",
    "        var_is_equal_to_x = create_boolean_is_equal_to(model, var, x_value)\n",
    "        model.Add(exp_of_var == exp_value).OnlyEnforceIf(var_is_equal_to_x)\n",
    "    \n",
    "    return exp_of_var"
   ]
  },
  {
   "cell_type": "code",
   "execution_count": 619,
   "metadata": {},
   "outputs": [
    {
     "name": "stdout",
     "output_type": "stream",
     "text": [
      "Status = OPTIMAL\n",
      "Solver value of exp(0.69) is: 1.9937\n",
      "Real value is: 1.9937155332430823\n"
     ]
    },
    {
     "name": "stderr",
     "output_type": "stream",
     "text": [
      "/tmp/ipykernel_4537/1959322448.py:13: DeprecationWarning: elementwise comparison failed; this will raise an error in the future.\n",
      "  model.Add(value != var).OnlyEnforceIf(boolean_var.Not())\n"
     ]
    }
   ],
   "source": [
    "float_precision_var = 100\n",
    "float_precision_exp = 10_000\n",
    "value_of_x = 0.69\n",
    "\n",
    "model = cp_model.CpModel()\n",
    "\n",
    "x = model.NewIntVar(-10 * float_precision_var, 10 * float_precision_var, \"x\")\n",
    "exp_of_x = lookup_table_exp_of_x(\n",
    "    model,\n",
    "    x,\n",
    "    float_precision_var=float_precision_var,\n",
    "    float_precision_exp=float_precision_exp,\n",
    ")\n",
    "\n",
    "model.Add(x == round(float_precision_var * value_of_x))\n",
    "\n",
    "solver = cp_model.CpSolver()\n",
    "status = solver.Solve(model)\n",
    "\n",
    "print(f\"Status = {solver.StatusName(status)}\")\n",
    "\n",
    "print(\n",
    "    f\"Solver value of exp({value_of_x}) is: {solver.Value(exp_of_x)/ float_precision_exp}\"\n",
    ")\n",
    "print(f\"Real value is: {exp(value_of_x)}\")\n"
   ]
  }
 ],
 "metadata": {
  "kernelspec": {
   "display_name": "ynstaenv",
   "language": "python",
   "name": "python3"
  },
  "language_info": {
   "codemirror_mode": {
    "name": "ipython",
    "version": 3
   },
   "file_extension": ".py",
   "mimetype": "text/x-python",
   "name": "python",
   "nbconvert_exporter": "python",
   "pygments_lexer": "ipython3",
   "version": "3.9.5"
  },
  "orig_nbformat": 4,
  "vscode": {
   "interpreter": {
    "hash": "60aad423cf61d8722f5f696b996614860486ab31702984425ac69059c5f0f73d"
   }
  }
 },
 "nbformat": 4,
 "nbformat_minor": 2
}

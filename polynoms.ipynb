{
 "cells": [
  {
   "attachments": {},
   "cell_type": "markdown",
   "metadata": {},
   "source": [
    "# CP-SAT: Polynoms and Taylor expansions"
   ]
  },
  {
   "cell_type": "code",
   "execution_count": 2,
   "metadata": {},
   "outputs": [],
   "source": [
    "from ortools.sat.python import cp_model\n",
    "from typing import List\n",
    "from math import factorial, exp\n",
    "\n",
    "\n",
    "FLOAT_APPROX_PRECISION = 100"
   ]
  },
  {
   "cell_type": "code",
   "execution_count": null,
   "metadata": {},
   "outputs": [],
   "source": [
    "from utils import add_multiplication_constraint"
   ]
  },
  {
   "attachments": {},
   "cell_type": "markdown",
   "metadata": {},
   "source": [
    "## Polynom with integer domain\n",
    "\n",
    "We can compute products of variables, and in perticular power of a variable.\n",
    "\n",
    "So we can compute polynoms. "
   ]
  },
  {
   "cell_type": "code",
   "execution_count": null,
   "metadata": {},
   "outputs": [],
   "source": [
    "def create_polynom(model: cp_model.CpModel, var: cp_model.IntVar, coefs: List[float], float_precision=FLOAT_APPROX_PRECISION, verbose=True):\n",
    "    degree = len(coefs)\n",
    "\n",
    "    # Approximate all coef values by mutliplying them by a big number and rounding them\n",
    "    coefs = [round(float_precision * coef) for coef in coefs]\n",
    "\n",
    "    polynom_value = 0\n",
    "    polynom_value_ub = 0\n",
    "    polynom_value_lb = 0\n",
    "    for deg in range(degree):\n",
    "        # Create the coefficient value\n",
    "        if deg == 0:\n",
    "            polynom_value += coefs[deg]\n",
    "            polynom_value_lb += coefs[deg]\n",
    "            polynom_value_ub += coefs[deg]\n",
    "        elif deg == 1:\n",
    "            polynom_value_lb += var.Proto().domain[0] * coefs[deg]\n",
    "            polynom_value_ub += var.Proto().domain[1] * coefs[deg]\n",
    "\n",
    "            polynom_value += coefs[deg] * var\n",
    "        else:\n",
    "            lb = var.Proto().domain[0] ** deg\n",
    "            ub = var.Proto().domain[1] ** deg\n",
    "\n",
    "            if (deg % 2) == 0:\n",
    "                if var.Proto().domain[0] < 0:\n",
    "                    lb = - lb\n",
    "                if var.Proto().domain[1] < 0:\n",
    "                    ub = - ub\n",
    "            \n",
    "            lb = coefs[deg] * lb\n",
    "            ub = coefs[deg] * ub      \n",
    "\n",
    "            polynom_value_lb += lb\n",
    "            polynom_value_ub += ub \n",
    "            \n",
    "            target = model.NewIntVar(lb=lb, ub=ub, name=f\"{var.Name()}**{deg}\")\n",
    "            add_multiplication_constraint(model, target, [var]*deg)\n",
    "            polynom_value += coefs[deg]*target\n",
    "    \n",
    "    if verbose:\n",
    "        print(\"Polynom\", polynom_value)\n",
    "\n",
    "    polynom_var = model.NewIntVar(polynom_value_lb, polynom_value_ub, name=f\"{var.Name()}_polynom\")\n",
    "    model.Add(polynom_var == polynom_value)\n",
    "    return polynom_var"
   ]
  },
  {
   "attachments": {},
   "cell_type": "markdown",
   "metadata": {},
   "source": [
    "### Application : Taylor expansion\n",
    "\n",
    "### Introduction \n",
    "\n",
    "Using [Taylor's theorem](https://en.wikipedia.org/wiki/Taylor%27s_theorem), we can approximate functions by polynoms using their n-th derivatives, for their values close to zero. For example, \n",
    "\n",
    "$$e^{x} = \\sum_{k=0}^{\\infty} \\frac{x^k}{k!} \\approx 1 + x + \\frac{1}{2}x^2 + \\frac{1}{6}x^3 + \\frac{1}{24}x^4 + \\dots$$\n",
    "\n",
    "$$\\ln(1+x) \\approx x - \\frac{1}{2}x^2 + \\frac{1}{3}x^3 - \\frac{1}{4}x^4 + \\dots $$\n",
    "\n",
    "Note that this can be used to approximate many other functions, but only close to zero. \n",
    "\n",
    "### Taylor approximation for integer values\n",
    "\n",
    "Here is the polynom associated to the taylor series expansion of exp."
   ]
  },
  {
   "cell_type": "code",
   "execution_count": null,
   "metadata": {},
   "outputs": [
    {
     "name": "stdout",
     "output_type": "stream",
     "text": [
      "Polynom (((((10000 * x) + 10000) + (5000 * x**2)) + (1667 * x**3)) + (417 * x**4))\n",
      "Status = OPTIMAL\n",
      "Solver value approximation of exp(1) is: 2.7084\n",
      "Real approximation is: 2.708333333333333\n",
      "Real value is: 2.718281828459045\n"
     ]
    }
   ],
   "source": [
    "\n",
    "float_precision = 10_000\n",
    "polynom_degree_approx = 5\n",
    "value_of_x = 1\n",
    "\n",
    "model = cp_model.CpModel()\n",
    "\n",
    "x = model.NewIntVar(0, 10, \"x\")\n",
    "exp_of_x = create_polynom(model, x, coefs=[1 / factorial(k) for k in range(polynom_degree_approx)], float_precision=float_precision)\n",
    "\n",
    "model.Add(x == value_of_x)\n",
    "\n",
    "solver = cp_model.CpSolver()\n",
    "status = solver.Solve(model)\n",
    "\n",
    "print(f\"Status = {solver.StatusName(status)}\")\n",
    "print(f\"Solver value approximation of exp({value_of_x}) is: {solver.Value(exp_of_x) / float_precision}\")\n",
    "print(f\"Real approximation is: { sum([value_of_x**k / factorial(k) for k in range(polynom_degree_approx)]) }\")\n",
    "print(f\"Real value is: {exp(value_of_x)}\")\n"
   ]
  },
  {
   "cell_type": "markdown",
   "metadata": {},
   "source": [
    "This can also work for negative value of exp, although we need to crank up the precision and degrees. "
   ]
  },
  {
   "cell_type": "code",
   "execution_count": null,
   "metadata": {},
   "outputs": [
    {
     "name": "stdout",
     "output_type": "stream",
     "text": [
      "Polynom (((((((((((10000000 * x) + 10000000) + (5000000 * x**2)) + (1666667 * x**3)) + (416667 * x**4)) + (83333 * x**5)) + (13889 * x**6)) + (1984 * x**7)) + (248 * x**8)) + (28 * x**9)) + (3 * x**10))\n",
      "Status = OPTIMAL\n",
      "Solver value approximation of exp(-3) is: 0.0539323\n",
      "Real approximation is: 0.05332589285714289\n",
      "Real value is: 0.049787068367863944\n"
     ]
    }
   ],
   "source": [
    "float_precision = 10_000_000\n",
    "polynom_degree_approx = 11\n",
    "value_of_x = -3\n",
    "\n",
    "model = cp_model.CpModel()\n",
    "\n",
    "x = model.NewIntVar(-10, 10, \"x\")\n",
    "exp_of_x = create_polynom(model, x, coefs=[1 / factorial(k) for k in range(polynom_degree_approx)], float_precision=float_precision)\n",
    "\n",
    "model.Add(x == value_of_x)\n",
    "\n",
    "solver = cp_model.CpSolver()\n",
    "status = solver.Solve(model)\n",
    "\n",
    "\n",
    "print(f\"Status = {solver.StatusName(status)}\")\n",
    "print(f\"Solver value approximation of exp({value_of_x}) is: {solver.Value(exp_of_x) / float_precision}\")\n",
    "print(f\"Real approximation is: { sum([value_of_x**k / factorial(k) for k in range(polynom_degree_approx)]) }\")\n",
    "print(f\"Real value is: {exp(value_of_x)}\")\n"
   ]
  },
  {
   "attachments": {},
   "cell_type": "markdown",
   "metadata": {},
   "source": [
    "## Polynom on decimal domain"
   ]
  },
  {
   "attachments": {},
   "cell_type": "markdown",
   "metadata": {},
   "source": [
    "THe previous implementation only works to evaluate values of polynom $P(x)$ for $x \\in \\mathbb{Z}$, i.e. x is a signed integer. \n",
    "\n",
    "But we'd also like to implement polynoms for decimal values.\n",
    "\n",
    "An intuitive way to do that would be to multiply the value of x by a big number, like we do to approximate division with decimal results. Just use `67` instead of `0.67`.\n",
    "\n",
    "But with the current implementation, this leads to big numerical errors. For example, `67**4 + 67**2 = 20 151 121` but `0.67**4 + 0.67**2 = 0.65041121`. \n",
    "\n",
    "We solve this by approximating every power individually, i.e. `67**4 / 100**3 + 67**2 / 100**1 = 65`, which is much closer to what we want."
   ]
  },
  {
   "cell_type": "code",
   "execution_count": null,
   "metadata": {},
   "outputs": [],
   "source": [
    "def create_polynom_decimal(\n",
    "    model: cp_model.CpModel,\n",
    "    var: cp_model.IntVar,\n",
    "    coefs: List[float],\n",
    "    float_precision_var=FLOAT_APPROX_PRECISION,\n",
    "    float_precision_coef=FLOAT_APPROX_PRECISION,\n",
    "    verbose=True,\n",
    "):\n",
    "    \"\"\"This polynom accepts as an input a decimal var upscaled by float_precision_var.\"\"\"\n",
    "    degree = len(coefs)\n",
    "\n",
    "    # Approximate all coef values by mutliplying them by a big number and rounding them\n",
    "    coefs = [round(float_precision_coef * coef) for coef in coefs]\n",
    "\n",
    "    polynom_value = 0\n",
    "    polynom_value_ub = 0\n",
    "    polynom_value_lb = 0\n",
    "    for deg in range(degree):\n",
    "        # Create the coefficient value\n",
    "        if deg == 0:\n",
    "            polynom_value += coefs[deg] * float_precision_var\n",
    "            polynom_value_lb += coefs[deg] * float_precision_var\n",
    "            polynom_value_ub += coefs[deg] * float_precision_var\n",
    "        elif deg == 1:\n",
    "            polynom_value_lb += var.Proto().domain[0] * coefs[deg]\n",
    "            polynom_value_ub += var.Proto().domain[1] * coefs[deg]\n",
    "\n",
    "            polynom_value += coefs[deg] * var \n",
    "        else:\n",
    "            # Bounds logic\n",
    "            lb_no_coef = var.Proto().domain[0] ** deg\n",
    "            ub_no_coef = var.Proto().domain[1] ** deg\n",
    "\n",
    "            if (deg % 2) == 0:\n",
    "                if var.Proto().domain[0] < 0:\n",
    "                    lb_no_coef = -lb_no_coef\n",
    "                if var.Proto().domain[1] < 0:\n",
    "                    ub_no_coef = -ub_no_coef\n",
    "\n",
    "            lb = coefs[deg] * lb_no_coef\n",
    "            ub = coefs[deg] * ub_no_coef\n",
    "\n",
    "            polynom_value_lb += lb\n",
    "            polynom_value_ub += ub\n",
    "\n",
    "            # Compute (x**n)\n",
    "            target = model.NewIntVar(lb=lb_no_coef, ub=ub_no_coef, name=f\"{var.Name()}**{deg}\")\n",
    "            add_multiplication_constraint(model, target, [var] * deg)\n",
    "            # Then compute (a * x**n)\n",
    "            target_times_coef = model.NewIntVar(\n",
    "                lb=lb, ub=ub, name=f\"{coefs[deg]}*{var.Name()}**{deg}\"\n",
    "            )\n",
    "            model.Add(target_times_coef == target * coefs[deg])\n",
    "            # Downscale (a * x**n) to the float_precision_var range\n",
    "            target_divided_by_approx = model.NewIntVar(\n",
    "                lb=lb, ub=ub, name=f\"{coefs[deg]}*{var.Name()}**{deg} / ({float_precision_var**(deg-1)})\"\n",
    "            )\n",
    "            model.AddDivisionEquality(\n",
    "                target_divided_by_approx, target_times_coef, float_precision_var**(deg-1)\n",
    "            )\n",
    "\n",
    "            polynom_value += target_divided_by_approx\n",
    "\n",
    "    if verbose:\n",
    "        print(\"Polynom\", polynom_value)\n",
    "\n",
    "    polynom_var = model.NewIntVar(\n",
    "        polynom_value_lb, polynom_value_ub, name=f\"{var.Name()}_polynom\"\n",
    "    )\n",
    "    model.Add(polynom_var == polynom_value)\n",
    "    return polynom_var\n"
   ]
  },
  {
   "attachments": {},
   "cell_type": "markdown",
   "metadata": {},
   "source": [
    "### Application: Taylor series approximation for exp at decimal values\n",
    "\n",
    "The main use of Taylor approximation is for values close to zero. Indeed, that's where the approximation is the best.\n",
    "\n",
    "Here is the implementation with polynom evaluated at a decimal values close to zero. "
   ]
  },
  {
   "cell_type": "code",
   "execution_count": null,
   "metadata": {},
   "outputs": [
    {
     "name": "stdout",
     "output_type": "stream",
     "text": [
      "Polynom (((((1000 * x) + 100000) + 500*x**2 / (100)) + 167*x**3 / (10000)) + 42*x**4 / (1000000))\n",
      "Status = OPTIMAL\n",
      "Solver value approximation of exp(0.69) is: 1.99243\n",
      "Real approximation is: 1.99224613375\n",
      "Real value is: 1.9937155332430823\n"
     ]
    }
   ],
   "source": [
    "float_precision_var = 100\n",
    "float_precision_coefs = 1_000\n",
    "polynom_degree_approx = 5\n",
    "value_of_x = 0.69\n",
    "\n",
    "model = cp_model.CpModel()\n",
    "\n",
    "x = model.NewIntVar(-10 * float_precision_var, 10 * float_precision_var, \"x\")\n",
    "exp_of_x = create_polynom_decimal(\n",
    "    model,\n",
    "    x,\n",
    "    coefs=[1 / factorial(k) for k in range(polynom_degree_approx)],\n",
    "    float_precision_var=float_precision_var,\n",
    "    float_precision_coef=float_precision_coefs,\n",
    "    verbose=True,\n",
    ")\n",
    "\n",
    "model.Add(x == round(float_precision_var * value_of_x))\n",
    "\n",
    "solver = cp_model.CpSolver()\n",
    "status = solver.Solve(model)\n",
    "\n",
    "print(f\"Status = {solver.StatusName(status)}\")\n",
    "\n",
    "print(\n",
    "    f\"Solver value approximation of exp({value_of_x}) is: {solver.Value(exp_of_x)/ float_precision_coefs / float_precision_var}\"\n",
    ")\n",
    "print(\n",
    "    f\"Real approximation is: { sum([value_of_x**k / factorial(k) for k in range(polynom_degree_approx)]) }\"\n",
    ")\n",
    "print(f\"Real value is: {exp(value_of_x)}\")\n"
   ]
  }
 ],
 "metadata": {
  "kernelspec": {
   "display_name": "ynstaenv",
   "language": "python",
   "name": "python3"
  },
  "language_info": {
   "codemirror_mode": {
    "name": "ipython",
    "version": 3
   },
   "file_extension": ".py",
   "mimetype": "text/x-python",
   "name": "python",
   "nbconvert_exporter": "python",
   "pygments_lexer": "ipython3",
   "version": "3.9.5"
  },
  "orig_nbformat": 4,
  "vscode": {
   "interpreter": {
    "hash": "60aad423cf61d8722f5f696b996614860486ab31702984425ac69059c5f0f73d"
   }
  }
 },
 "nbformat": 4,
 "nbformat_minor": 2
}

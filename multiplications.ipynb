{
 "cells": [
  {
   "attachments": {},
   "cell_type": "markdown",
   "metadata": {},
   "source": [
    "# CP-SAT: Multiplications"
   ]
  },
  {
   "cell_type": "code",
   "execution_count": 1,
   "metadata": {},
   "outputs": [],
   "source": [
    "from ortools.sat.python import cp_model"
   ]
  },
  {
   "attachments": {},
   "cell_type": "markdown",
   "metadata": {},
   "source": [
    "## Multiplication Equality Constraint"
   ]
  },
  {
   "cell_type": "markdown",
   "metadata": {},
   "source": [
    "The solver works with a multiplication equality constraint of 2 variables. "
   ]
  },
  {
   "cell_type": "code",
   "execution_count": null,
   "metadata": {},
   "outputs": [
    {
     "name": "stdout",
     "output_type": "stream",
     "text": [
      "Solution is: 242\n"
     ]
    }
   ],
   "source": [
    "model = cp_model.CpModel()\n",
    "\n",
    "x = model.NewIntVar(0, 100, \"x\")\n",
    "y = model.NewIntVar(1, 100, \"y\")\n",
    "result = model.NewIntVar(0, 100 * 100, \"result\")\n",
    "\n",
    "# We want to compute 22*11\n",
    "model.Add(x == 22)\n",
    "model.Add(y == 11)\n",
    "model.AddMultiplicationEquality(result, [x, y])\n",
    "\n",
    "# Solve\n",
    "solver = cp_model.CpSolver()\n",
    "status = solver.Solve(model)\n",
    "\n",
    "# Divide the result to get a rounded down solution\n",
    "print(f\"Solution is: {solver.Value(result)}\")\n"
   ]
  },
  {
   "cell_type": "markdown",
   "metadata": {},
   "source": [
    "But with more than 2 terms, the solver will fail. This is despite the docs saying us that it should work. "
   ]
  },
  {
   "cell_type": "code",
   "execution_count": null,
   "metadata": {},
   "outputs": [
    {
     "name": "stdout",
     "output_type": "stream",
     "text": [
      "Status = MODEL_INVALID\n"
     ]
    }
   ],
   "source": [
    "model = cp_model.CpModel()\n",
    "\n",
    "x = model.NewIntVar(0, 100, \"x\")\n",
    "y = model.NewIntVar(0, 100, \"y\")\n",
    "z = model.NewIntVar(0, 100, \"z\")\n",
    "result = model.NewIntVar(0, 100 * 100 * 100, \"result\")\n",
    "\n",
    "# We want to compute 22*11*33\n",
    "model.Add(x == 22)\n",
    "model.Add(y == 11)\n",
    "model.Add(z == 33)\n",
    "model.AddMultiplicationEquality(result, [x, y, z])\n",
    "\n",
    "# The solver fails\n",
    "solver = cp_model.CpSolver()\n",
    "status = solver.Solve(model)\n",
    "print(f\"Status = {solver.StatusName(status)}\")\n"
   ]
  },
  {
   "attachments": {},
   "cell_type": "markdown",
   "metadata": {},
   "source": [
    "## Using an intermediate variable to apply MultiplicationEqualityConstraint with more than three variables\n",
    "\n",
    "A trick is to use an intermediate variable. "
   ]
  },
  {
   "cell_type": "code",
   "execution_count": null,
   "metadata": {},
   "outputs": [
    {
     "name": "stdout",
     "output_type": "stream",
     "text": [
      "Status = OPTIMAL\n",
      "Solution is: 7986\n"
     ]
    }
   ],
   "source": [
    "model = cp_model.CpModel()\n",
    "\n",
    "x = model.NewIntVar(0, 100, \"x\")\n",
    "y = model.NewIntVar(0, 100, \"y\")\n",
    "intermediate = model.NewIntVar(0, 100 * 100, \"x*y\")\n",
    "z = model.NewIntVar(0, 100, \"z\")\n",
    "result = model.NewIntVar(0, 100 * 100 * 100, \"result\")\n",
    "\n",
    "# Let's say we want to compute 22*11*33\n",
    "# First we compute x*y and store the result in an intermediate variable\n",
    "model.Add(x == 22)\n",
    "model.Add(y == 11)\n",
    "model.AddMultiplicationEquality(intermediate, [x, y])\n",
    "# And then we multiply this intermediate variable and get the final result\n",
    "model.Add(z == 33)\n",
    "model.AddMultiplicationEquality(result, [intermediate, z])\n",
    "\n",
    "# The solver is happy now\n",
    "solver = cp_model.CpSolver()\n",
    "status = solver.Solve(model)\n",
    "\n",
    "print(f\"Status = {solver.StatusName(status)}\")\n",
    "print(f\"Solution is: {solver.Value(result)}\")"
   ]
  },
  {
   "cell_type": "markdown",
   "metadata": {},
   "source": [
    "We can generalize this idea, and implement this recursive function. "
   ]
  },
  {
   "cell_type": "code",
   "execution_count": null,
   "metadata": {},
   "outputs": [],
   "source": [
    "from typing import List\n",
    "\n",
    "\n",
    "def add_multiplication_constraint(\n",
    "    model: cp_model.CpModel, target: cp_model.IntVar, variables: List[cp_model.IntVar],\n",
    "):\n",
    "    if len(variables) <= 2:\n",
    "        # If less than 2 variables, we can add a normal inequality constraint\n",
    "        model.AddMultiplicationEquality(target, variables)\n",
    "        return\n",
    "    else:\n",
    "        last_variable = variables.pop()\n",
    "        before_last_variable = variables.pop()\n",
    "        # Use their bounds to define domain of the intermediate variable\n",
    "        # You may need additional logic here to account for variable domain bounds\n",
    "        ub = max(\n",
    "            last_variable.Proto().domain[1] * before_last_variable.Proto().domain[1],\n",
    "            last_variable.Proto().domain[0] * before_last_variable.Proto().domain[1],\n",
    "            last_variable.Proto().domain[0] * before_last_variable.Proto().domain[0],\n",
    "            last_variable.Proto().domain[1] * before_last_variable.Proto().domain[0],\n",
    "        )\n",
    "        lb = min(\n",
    "            last_variable.Proto().domain[1] * before_last_variable.Proto().domain[1],\n",
    "            last_variable.Proto().domain[0] * before_last_variable.Proto().domain[1],\n",
    "            last_variable.Proto().domain[0] * before_last_variable.Proto().domain[0],\n",
    "            last_variable.Proto().domain[1] * before_last_variable.Proto().domain[0],\n",
    "        )\n",
    "        # Create an intermediate variable\n",
    "        intermediate = model.NewIntVar(\n",
    "            lb=lb, ub=ub, name=f\"{before_last_variable.Name()}*{last_variable.Name()}\"\n",
    "        )\n",
    "        model.AddMultiplicationEquality(\n",
    "            intermediate, [before_last_variable, last_variable]\n",
    "        )\n",
    "        # Recursion\n",
    "        add_multiplication_constraint(model, target, variables + [intermediate])\n"
   ]
  },
  {
   "cell_type": "markdown",
   "metadata": {},
   "source": [
    "Let's test it with the product of 10 variables with random values. "
   ]
  },
  {
   "cell_type": "code",
   "execution_count": null,
   "metadata": {},
   "outputs": [
    {
     "name": "stdout",
     "output_type": "stream",
     "text": [
      "Set x_0=-19\n",
      "Set x_1=17\n",
      "Set x_2=-12\n",
      "Set x_3=11\n",
      "Set x_4=-1\n",
      "Set x_5=11\n",
      "Set x_6=-13\n",
      "Set x_7=-12\n",
      "Set x_8=-10\n",
      "Set x_9=4\n",
      "Status = OPTIMAL\n",
      "Solution found by the solver is: 2926535040\n",
      "Real solution is: 2926535040\n"
     ]
    }
   ],
   "source": [
    "from random import randint \n",
    "\n",
    "model = cp_model.CpModel()\n",
    "\n",
    "n_variables = 10\n",
    "many_variables = [model.NewIntVar(-20, 20, f\"{x}_{i}\") for i in range(n_variables)]\n",
    "result = model.NewIntVar(- 20 ** n_variables, 20 ** n_variables, \"result\")\n",
    "\n",
    "# Set the var to be equal to random int between 1 and 10\n",
    "real_product = 1\n",
    "for i, var in enumerate(many_variables):\n",
    "    random_value = randint(-20, 20)\n",
    "    if random_value == 0:\n",
    "        random_value += 1\n",
    "    real_product *= random_value\n",
    "    print(f\"Set {x}_{i}={random_value}\")\n",
    "    model.Add(var == random_value)\n",
    "\n",
    "add_multiplication_constraint(model, result, many_variables)\n",
    "\n",
    "# The solver is happy now\n",
    "solver = cp_model.CpSolver()\n",
    "status = solver.Solve(model)\n",
    "\n",
    "print(f\"Status = {solver.StatusName(status)}\")\n",
    "print(f\"Solution found by the solver is: {solver.Value(result)}\")\n",
    "print(f\"Real solution is: {real_product}\")"
   ]
  },
  {
   "attachments": {},
   "cell_type": "markdown",
   "metadata": {},
   "source": [
    "## Big int limitations\n",
    "\n",
    "Integers have limits, and you can reach them when you multiply many big numbers together.\n",
    " \n",
    "I found the limit to be $2^{63} \\approx 9,2 \\times 10^{18}$. "
   ]
  },
  {
   "cell_type": "code",
   "execution_count": null,
   "metadata": {},
   "outputs": [],
   "source": [
    "# No problem\n",
    "big_int = model.NewIntVar(- 2**63 + 1, 2**63 -1, \"big_int\")"
   ]
  },
  {
   "cell_type": "code",
   "execution_count": null,
   "metadata": {},
   "outputs": [
    {
     "ename": "TypeError",
     "evalue": "__init__(): incompatible constructor arguments. The following argument types are supported:\n    1. ortools.util.python.sorted_interval_list.Domain(arg0: int, arg1: int)\n\nInvoked with: 0, 9223372036854775808",
     "output_type": "error",
     "traceback": [
      "\u001b[0;31m---------------------------------------------------------------------------\u001b[0m\n",
      "\u001b[0;31mTypeError\u001b[0m                                 Traceback (most recent call last)\n",
      "\u001b[1;32m/home/haxxor/projects/cpsat-fun/main.ipynb Cell 39\u001b[0m in \u001b[0;36m<cell line: 2>\u001b[0;34m()\u001b[0m\n",
      "\u001b[1;32m      <a href='vscode-notebook-cell:/home/haxxor/projects/cpsat-fun/main.ipynb#X56sZmlsZQ%3D%3D?line=0'>1</a>\u001b[0m \u001b[39m# Big trouble !!!\u001b[39;00m\n",
      "\u001b[0;32m----> <a href='vscode-notebook-cell:/home/haxxor/projects/cpsat-fun/main.ipynb#X56sZmlsZQ%3D%3D?line=1'>2</a>\u001b[0m big_int \u001b[39m=\u001b[39m model\u001b[39m.\u001b[39;49mNewIntVar(\u001b[39m0\u001b[39;49m, \u001b[39m2\u001b[39;49m\u001b[39m*\u001b[39;49m\u001b[39m*\u001b[39;49m\u001b[39m63\u001b[39;49m, \u001b[39m\"\u001b[39;49m\u001b[39mbig_int\u001b[39;49m\u001b[39m\"\u001b[39;49m)\n",
      "\n",
      "File \u001b[0;32m~/ynstant/ynstaenv/lib/python3.9/site-packages/ortools/sat/python/cp_model.py:999\u001b[0m, in \u001b[0;36mCpModel.NewIntVar\u001b[0;34m(self, lb, ub, name)\u001b[0m\n",
      "\u001b[1;32m    983\u001b[0m \u001b[39mdef\u001b[39;00m \u001b[39mNewIntVar\u001b[39m(\u001b[39mself\u001b[39m, lb, ub, name):\n",
      "\u001b[1;32m    984\u001b[0m     \u001b[39m\"\"\"Create an integer variable with domain [lb, ub].\u001b[39;00m\n",
      "\u001b[1;32m    985\u001b[0m \n",
      "\u001b[1;32m    986\u001b[0m \u001b[39mThe CP-SAT solver is limited to integer variables. If you have fractional\u001b[39;00m\n",
      "\u001b[0;32m   (...)\u001b[0m\n",
      "\u001b[1;32m    996\u001b[0m \u001b[39m  a variable whose domain is [lb, ub].\u001b[39;00m\n",
      "\u001b[1;32m    997\u001b[0m \u001b[39m\"\"\"\u001b[39;00m\n",
      "\u001b[0;32m--> 999\u001b[0m     \u001b[39mreturn\u001b[39;00m IntVar(\u001b[39mself\u001b[39m\u001b[39m.\u001b[39m__model, Domain(lb, ub), name)\n",
      "\n",
      "\u001b[0;31mTypeError\u001b[0m: __init__(): incompatible constructor arguments. The following argument types are supported:\n",
      "    1. ortools.util.python.sorted_interval_list.Domain(arg0: int, arg1: int)\n",
      "\n",
      "Invoked with: 0, 9223372036854775808"
     ]
    }
   ],
   "source": [
    "# Big trouble !!!\n",
    "big_int = model.NewIntVar(0, 2**63, \"big_int\")"
   ]
  },
  {
   "attachments": {},
   "cell_type": "markdown",
   "metadata": {},
   "source": [
    "## Variable bounds\n",
    "\n",
    "The previous code works when variables have fixed, integer bounds. But they can also be variables themselves."
   ]
  },
  {
   "cell_type": "code",
   "execution_count": null,
   "metadata": {},
   "outputs": [],
   "source": [
    "# TODO : multiplication when variables bounds are variables"
   ]
  }
 ],
 "metadata": {
  "kernelspec": {
   "display_name": "ynstaenv",
   "language": "python",
   "name": "python3"
  },
  "language_info": {
   "codemirror_mode": {
    "name": "ipython",
    "version": 3
   },
   "file_extension": ".py",
   "mimetype": "text/x-python",
   "name": "python",
   "nbconvert_exporter": "python",
   "pygments_lexer": "ipython3",
   "version": "3.9.5"
  },
  "orig_nbformat": 4,
  "vscode": {
   "interpreter": {
    "hash": "60aad423cf61d8722f5f696b996614860486ab31702984425ac69059c5f0f73d"
   }
  }
 },
 "nbformat": 4,
 "nbformat_minor": 2
}

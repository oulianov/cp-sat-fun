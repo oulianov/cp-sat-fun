{
 "cells": [
  {
   "attachments": {},
   "cell_type": "markdown",
   "metadata": {},
   "source": [
    "# CP-SAT: Decimal numbers"
   ]
  },
  {
   "cell_type": "code",
   "execution_count": null,
   "metadata": {},
   "outputs": [],
   "source": [
    "from ortools.sat.python import cp_model"
   ]
  },
  {
   "cell_type": "markdown",
   "metadata": {},
   "source": [
    "## Division with decimal numbers"
   ]
  },
  {
   "cell_type": "markdown",
   "metadata": {},
   "source": [
    "CP-SAT is an integer programming solver. Thus, it only stores integer variables. \n",
    "\n",
    "But when you divide variables, you sometimes need more precision than an integer. \n",
    "\n",
    "Simply multiply the variable by a big number to get a rounded down approximation. "
   ]
  },
  {
   "cell_type": "code",
   "execution_count": null,
   "metadata": {},
   "outputs": [],
   "source": [
    "FLOAT_APPROX_PRECISION = 100"
   ]
  },
  {
   "cell_type": "code",
   "execution_count": null,
   "metadata": {},
   "outputs": [
    {
     "name": "stdout",
     "output_type": "stream",
     "text": [
      "Solution is approximately: 0.33\n"
     ]
    }
   ],
   "source": [
    "model = cp_model.CpModel()\n",
    "\n",
    "numerator = model.NewIntVar(0, 100, \"numerator\")\n",
    "denominator = model.NewIntVar(1, 100, \"denominator\")\n",
    "result = model.NewIntVar(0, 100, \"result\")\n",
    "\n",
    "# We want to compute 10/30\n",
    "model.Add(numerator == 10)\n",
    "model.Add(denominator == 30)\n",
    "# Add a divison equality and multiply numerator by 100\n",
    "model.AddDivisionEquality(result, numerator * FLOAT_APPROX_PRECISION, denominator)\n",
    "\n",
    "# Solve\n",
    "solver = cp_model.CpSolver()\n",
    "status = solver.Solve(model)\n",
    "\n",
    "# Divide the result to get a rounded down solution\n",
    "print(f\"Solution is approximately: {solver.Value(result) / FLOAT_APPROX_PRECISION}\")\n"
   ]
  },
  {
   "cell_type": "markdown",
   "metadata": {},
   "source": [
    "## Constraints with decimal numbers"
   ]
  },
  {
   "cell_type": "markdown",
   "metadata": {},
   "source": [
    "Let's say you want the result variable to be more than half of the variable x. This will fail."
   ]
  },
  {
   "cell_type": "code",
   "execution_count": null,
   "metadata": {},
   "outputs": [
    {
     "ename": "TypeError",
     "evalue": "Not an integer: -0.5",
     "output_type": "error",
     "traceback": [
      "\u001b[0;31m---------------------------------------------------------------------------\u001b[0m\n",
      "\u001b[0;31mTypeError\u001b[0m                                 Traceback (most recent call last)\n",
      "\u001b[1;32m/home/haxxor/projects/cpsat-fun/main.ipynb Cell 10\u001b[0m in \u001b[0;36m<cell line: 9>\u001b[0;34m()\u001b[0m\n",
      "\u001b[1;32m      <a href='vscode-notebook-cell:/home/haxxor/projects/cpsat-fun/main.ipynb#X66sZmlsZQ%3D%3D?line=6'>7</a>\u001b[0m model\u001b[39m.\u001b[39mAdd(numerator \u001b[39m==\u001b[39m \u001b[39m30\u001b[39m)\n",
      "\u001b[1;32m      <a href='vscode-notebook-cell:/home/haxxor/projects/cpsat-fun/main.ipynb#X66sZmlsZQ%3D%3D?line=7'>8</a>\u001b[0m \u001b[39m# This will fail\u001b[39;00m\n",
      "\u001b[0;32m----> <a href='vscode-notebook-cell:/home/haxxor/projects/cpsat-fun/main.ipynb#X66sZmlsZQ%3D%3D?line=8'>9</a>\u001b[0m model\u001b[39m.\u001b[39;49mAdd(result \u001b[39m>\u001b[39;49m\u001b[39m=\u001b[39;49m \u001b[39m0.5\u001b[39;49m \u001b[39m*\u001b[39;49m x)\n",
      "\n",
      "File \u001b[0;32m~/ynstant/ynstaenv/lib/python3.9/site-packages/ortools/sat/python/cp_model.py:1068\u001b[0m, in \u001b[0;36mCpModel.Add\u001b[0;34m(self, ct)\u001b[0m\n",
      "\u001b[1;32m   1059\u001b[0m     \u001b[39m\"\"\"Adds a `BoundedLinearExpression` to the model.\u001b[39;00m\n",
      "\u001b[1;32m   1060\u001b[0m \n",
      "\u001b[1;32m   1061\u001b[0m \u001b[39mArgs:\u001b[39;00m\n",
      "\u001b[0;32m   (...)\u001b[0m\n",
      "\u001b[1;32m   1065\u001b[0m \u001b[39m  An instance of the `Constraint` class.\u001b[39;00m\n",
      "\u001b[1;32m   1066\u001b[0m \u001b[39m\"\"\"\u001b[39;00m\n",
      "\u001b[1;32m   1067\u001b[0m     \u001b[39mif\u001b[39;00m \u001b[39misinstance\u001b[39m(ct, BoundedLinearExpression):\n",
      "\u001b[0;32m-> 1068\u001b[0m         \u001b[39mreturn\u001b[39;00m \u001b[39mself\u001b[39;49m\u001b[39m.\u001b[39;49mAddLinearExpressionInDomain(\n",
      "\u001b[1;32m   1069\u001b[0m             ct\u001b[39m.\u001b[39;49mExpression(), Domain\u001b[39m.\u001b[39;49mFromFlatIntervals(ct\u001b[39m.\u001b[39;49mBounds()))\n",
      "\u001b[1;32m   1070\u001b[0m     \u001b[39melif\u001b[39;00m ct \u001b[39mand\u001b[39;00m \u001b[39misinstance\u001b[39m(ct, \u001b[39mbool\u001b[39m):\n",
      "\u001b[1;32m   1071\u001b[0m         \u001b[39mreturn\u001b[39;00m \u001b[39mself\u001b[39m\u001b[39m.\u001b[39mAddBoolOr([\u001b[39mTrue\u001b[39;00m])\n",
      "\n",
      "File \u001b[0;32m~/ynstant/ynstaenv/lib/python3.9/site-packages/ortools/sat/python/cp_model.py:1041\u001b[0m, in \u001b[0;36mCpModel.AddLinearExpressionInDomain\u001b[0;34m(self, linear_expr, domain)\u001b[0m\n",
      "\u001b[1;32m   1039\u001b[0m \u001b[39mif\u001b[39;00m \u001b[39mnot\u001b[39;00m \u001b[39misinstance\u001b[39m(t[\u001b[39m0\u001b[39m], IntVar):\n",
      "\u001b[1;32m   1040\u001b[0m     \u001b[39mraise\u001b[39;00m \u001b[39mTypeError\u001b[39;00m(\u001b[39m'\u001b[39m\u001b[39mWrong argument\u001b[39m\u001b[39m'\u001b[39m \u001b[39m+\u001b[39m \u001b[39mstr\u001b[39m(t))\n",
      "\u001b[0;32m-> 1041\u001b[0m c \u001b[39m=\u001b[39m cmh\u001b[39m.\u001b[39;49massert_is_int64(t[\u001b[39m1\u001b[39;49m])\n",
      "\u001b[1;32m   1042\u001b[0m model_ct\u001b[39m.\u001b[39mlinear\u001b[39m.\u001b[39mvars\u001b[39m.\u001b[39mappend(t[\u001b[39m0\u001b[39m]\u001b[39m.\u001b[39mIndex())\n",
      "\u001b[1;32m   1043\u001b[0m model_ct\u001b[39m.\u001b[39mlinear\u001b[39m.\u001b[39mcoeffs\u001b[39m.\u001b[39mappend(c)\n",
      "\n",
      "File \u001b[0;32m~/ynstant/ynstaenv/lib/python3.9/site-packages/ortools/sat/python/cp_model_helper.py:56\u001b[0m, in \u001b[0;36massert_is_int64\u001b[0;34m(x)\u001b[0m\n",
      "\u001b[1;32m     54\u001b[0m \u001b[39m\"\"\"Asserts that x is integer and x is in [min_int_64, max_int_64].\"\"\"\u001b[39;00m\n",
      "\u001b[1;32m     55\u001b[0m \u001b[39mif\u001b[39;00m \u001b[39mnot\u001b[39;00m is_integral(x):\n",
      "\u001b[0;32m---> 56\u001b[0m     \u001b[39mraise\u001b[39;00m \u001b[39mTypeError\u001b[39;00m(\u001b[39m'\u001b[39m\u001b[39mNot an integer: \u001b[39m\u001b[39m%s\u001b[39;00m\u001b[39m'\u001b[39m \u001b[39m%\u001b[39m x)\n",
      "\u001b[1;32m     57\u001b[0m \u001b[39mif\u001b[39;00m x \u001b[39m<\u001b[39m INT_MIN \u001b[39mor\u001b[39;00m x \u001b[39m>\u001b[39m INT_MAX:\n",
      "\u001b[1;32m     58\u001b[0m     \u001b[39mraise\u001b[39;00m \u001b[39mOverflowError\u001b[39;00m(\u001b[39m'\u001b[39m\u001b[39mDoes not fit in an int64_t: \u001b[39m\u001b[39m%s\u001b[39;00m\u001b[39m'\u001b[39m \u001b[39m%\u001b[39m x)\n",
      "\n",
      "\u001b[0;31mTypeError\u001b[0m: Not an integer: -0.5"
     ]
    }
   ],
   "source": [
    "model = cp_model.CpModel()\n",
    "\n",
    "x = model.NewIntVar(0, 100, \"x\")\n",
    "result = model.NewIntVar(0, 100, \"result\")\n",
    "\n",
    "# Assume x == 30\n",
    "model.Add(numerator == 30)\n",
    "# This will fail\n",
    "model.Add(result >= 0.5 * x)"
   ]
  },
  {
   "cell_type": "markdown",
   "metadata": {},
   "source": [
    "But you can rewrite this inequality, to say that the variable result should be at least twice as big as the variable x.\n",
    "\n",
    "In this casee, the constraint is perfectly valid."
   ]
  },
  {
   "cell_type": "code",
   "execution_count": null,
   "metadata": {},
   "outputs": [
    {
     "data": {
      "text/plain": [
       "<ortools.sat.python.cp_model.Constraint at 0x7f3554ee0a90>"
      ]
     },
     "metadata": {},
     "output_type": "display_data"
    }
   ],
   "source": [
    "model.Add(2 * result >= x)"
   ]
  },
  {
   "cell_type": "markdown",
   "metadata": {},
   "source": [
    "More generally, a quick and dirty way to handle constraints with decimal numbers is to multiply both sides by a big number and round everything. "
   ]
  },
  {
   "cell_type": "code",
   "execution_count": null,
   "metadata": {},
   "outputs": [
    {
     "data": {
      "text/plain": [
       "<ortools.sat.python.cp_model.Constraint at 0x7f355479d850>"
      ]
     },
     "metadata": {},
     "output_type": "display_data"
    }
   ],
   "source": [
    "# This will work well enough in most cases\n",
    "model.Add(FLOAT_APPROX_PRECISION*result >= round(FLOAT_APPROX_PRECISION * 0.5) * x)"
   ]
  }
 ],
 "metadata": {
  "kernelspec": {
   "display_name": "ynstaenv",
   "language": "python",
   "name": "python3"
  },
  "language_info": {
   "name": "python",
   "version": "3.9.5"
  },
  "orig_nbformat": 4,
  "vscode": {
   "interpreter": {
    "hash": "60aad423cf61d8722f5f696b996614860486ab31702984425ac69059c5f0f73d"
   }
  }
 },
 "nbformat": 4,
 "nbformat_minor": 2
}
